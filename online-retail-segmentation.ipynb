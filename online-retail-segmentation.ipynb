{
 "cells": [
  {
   "cell_type": "markdown",
   "id": "7d9e5dbe",
   "metadata": {
    "papermill": {
     "duration": 0.015515,
     "end_time": "2022-11-21T06:37:37.593285",
     "exception": false,
     "start_time": "2022-11-21T06:37:37.577770",
     "status": "completed"
    },
    "tags": []
   },
   "source": [
    "# RFM Analysis on Online-Retail Dataset"
   ]
  },
  {
   "cell_type": "code",
   "execution_count": 1,
   "id": "d0635b19",
   "metadata": {
    "datalore": {
     "hide_input_from_viewers": false,
     "hide_output_from_viewers": false,
     "type": "CODE"
    },
    "execution": {
     "iopub.execute_input": "2022-11-21T06:37:37.625232Z",
     "iopub.status.busy": "2022-11-21T06:37:37.624717Z",
     "iopub.status.idle": "2022-11-21T06:37:39.454977Z",
     "shell.execute_reply": "2022-11-21T06:37:39.453503Z"
    },
    "papermill": {
     "duration": 1.851095,
     "end_time": "2022-11-21T06:37:39.458054",
     "exception": false,
     "start_time": "2022-11-21T06:37:37.606959",
     "status": "completed"
    },
    "tags": []
   },
   "outputs": [],
   "source": [
    "# Import libraries needed for preprocessing and visualization\n",
    "import pandas as pd\n",
    "import matplotlib.pyplot as plt\n",
    "import ipympl\n",
    "import seaborn as sns\n",
    "from scipy import stats\n",
    "import numpy as np\n",
    "import warnings\n",
    "warnings.simplefilter('ignore')\n",
    "\n",
    "\n",
    "# Import libraries needed for Clustering  \n",
    "from sklearn.preprocessing import StandardScaler\n",
    "from sklearn.cluster import KMeans"
   ]
  },
  {
   "cell_type": "markdown",
   "id": "79924a72",
   "metadata": {
    "papermill": {
     "duration": 0.015353,
     "end_time": "2022-11-21T06:37:39.488560",
     "exception": false,
     "start_time": "2022-11-21T06:37:39.473207",
     "status": "completed"
    },
    "tags": []
   },
   "source": [
    "## Read the dataset\n",
    "\n",
    "The Online-Retail dataset from the UCI Machine Learning Repository contains information regaring online transactions made in a company from 01/12/2010 and 09/12/2011."
   ]
  },
  {
   "cell_type": "code",
   "execution_count": 2,
   "id": "db5e87bb",
   "metadata": {
    "datalore": {
     "hide_input_from_viewers": false,
     "hide_output_from_viewers": false,
     "type": "CODE"
    },
    "execution": {
     "iopub.execute_input": "2022-11-21T06:37:39.519410Z",
     "iopub.status.busy": "2022-11-21T06:37:39.518957Z",
     "iopub.status.idle": "2022-11-21T06:38:58.653684Z",
     "shell.execute_reply": "2022-11-21T06:38:58.652240Z"
    },
    "papermill": {
     "duration": 79.167358,
     "end_time": "2022-11-21T06:38:58.669997",
     "exception": false,
     "start_time": "2022-11-21T06:37:39.502639",
     "status": "completed"
    },
    "tags": []
   },
   "outputs": [
    {
     "data": {
      "text/html": [
       "<div>\n",
       "<style scoped>\n",
       "    .dataframe tbody tr th:only-of-type {\n",
       "        vertical-align: middle;\n",
       "    }\n",
       "\n",
       "    .dataframe tbody tr th {\n",
       "        vertical-align: top;\n",
       "    }\n",
       "\n",
       "    .dataframe thead th {\n",
       "        text-align: right;\n",
       "    }\n",
       "</style>\n",
       "<table border=\"1\" class=\"dataframe\">\n",
       "  <thead>\n",
       "    <tr style=\"text-align: right;\">\n",
       "      <th></th>\n",
       "      <th>InvoiceNo</th>\n",
       "      <th>StockCode</th>\n",
       "      <th>Description</th>\n",
       "      <th>Quantity</th>\n",
       "      <th>InvoiceDate</th>\n",
       "      <th>UnitPrice</th>\n",
       "      <th>CustomerID</th>\n",
       "      <th>Country</th>\n",
       "    </tr>\n",
       "  </thead>\n",
       "  <tbody>\n",
       "    <tr>\n",
       "      <th>0</th>\n",
       "      <td>536365</td>\n",
       "      <td>85123A</td>\n",
       "      <td>WHITE HANGING HEART T-LIGHT HOLDER</td>\n",
       "      <td>6</td>\n",
       "      <td>2010-12-01 08:26:00</td>\n",
       "      <td>2.55</td>\n",
       "      <td>17850.0</td>\n",
       "      <td>United Kingdom</td>\n",
       "    </tr>\n",
       "    <tr>\n",
       "      <th>1</th>\n",
       "      <td>536365</td>\n",
       "      <td>71053</td>\n",
       "      <td>WHITE METAL LANTERN</td>\n",
       "      <td>6</td>\n",
       "      <td>2010-12-01 08:26:00</td>\n",
       "      <td>3.39</td>\n",
       "      <td>17850.0</td>\n",
       "      <td>United Kingdom</td>\n",
       "    </tr>\n",
       "    <tr>\n",
       "      <th>2</th>\n",
       "      <td>536365</td>\n",
       "      <td>84406B</td>\n",
       "      <td>CREAM CUPID HEARTS COAT HANGER</td>\n",
       "      <td>8</td>\n",
       "      <td>2010-12-01 08:26:00</td>\n",
       "      <td>2.75</td>\n",
       "      <td>17850.0</td>\n",
       "      <td>United Kingdom</td>\n",
       "    </tr>\n",
       "    <tr>\n",
       "      <th>3</th>\n",
       "      <td>536365</td>\n",
       "      <td>84029G</td>\n",
       "      <td>KNITTED UNION FLAG HOT WATER BOTTLE</td>\n",
       "      <td>6</td>\n",
       "      <td>2010-12-01 08:26:00</td>\n",
       "      <td>3.39</td>\n",
       "      <td>17850.0</td>\n",
       "      <td>United Kingdom</td>\n",
       "    </tr>\n",
       "    <tr>\n",
       "      <th>4</th>\n",
       "      <td>536365</td>\n",
       "      <td>84029E</td>\n",
       "      <td>RED WOOLLY HOTTIE WHITE HEART.</td>\n",
       "      <td>6</td>\n",
       "      <td>2010-12-01 08:26:00</td>\n",
       "      <td>3.39</td>\n",
       "      <td>17850.0</td>\n",
       "      <td>United Kingdom</td>\n",
       "    </tr>\n",
       "  </tbody>\n",
       "</table>\n",
       "</div>"
      ],
      "text/plain": [
       "  InvoiceNo StockCode                          Description  Quantity  \\\n",
       "0    536365    85123A   WHITE HANGING HEART T-LIGHT HOLDER         6   \n",
       "1    536365     71053                  WHITE METAL LANTERN         6   \n",
       "2    536365    84406B       CREAM CUPID HEARTS COAT HANGER         8   \n",
       "3    536365    84029G  KNITTED UNION FLAG HOT WATER BOTTLE         6   \n",
       "4    536365    84029E       RED WOOLLY HOTTIE WHITE HEART.         6   \n",
       "\n",
       "          InvoiceDate  UnitPrice  CustomerID         Country  \n",
       "0 2010-12-01 08:26:00       2.55     17850.0  United Kingdom  \n",
       "1 2010-12-01 08:26:00       3.39     17850.0  United Kingdom  \n",
       "2 2010-12-01 08:26:00       2.75     17850.0  United Kingdom  \n",
       "3 2010-12-01 08:26:00       3.39     17850.0  United Kingdom  \n",
       "4 2010-12-01 08:26:00       3.39     17850.0  United Kingdom  "
      ]
     },
     "execution_count": 2,
     "metadata": {},
     "output_type": "execute_result"
    }
   ],
   "source": [
    "# Read the data on which analysis needs to be done and display first 5 entries\n",
    "data='../input/online-retail/Online Retail.xlsx'\n",
    "df_retail=pd.read_excel(data)\n",
    "df_retail.head()"
   ]
  },
  {
   "cell_type": "markdown",
   "id": "3e22c52d",
   "metadata": {
    "papermill": {
     "duration": 0.01358,
     "end_time": "2022-11-21T06:38:58.698054",
     "exception": false,
     "start_time": "2022-11-21T06:38:58.684474",
     "status": "completed"
    },
    "tags": []
   },
   "source": [
    "## Exploratory Data Analysis\n",
    "\n",
    "For the purpose of RFM analysis, we only require the customer ID, number of items and its unit price, number of transactions and the date of order. "
   ]
  },
  {
   "cell_type": "code",
   "execution_count": 3,
   "id": "1ff77655",
   "metadata": {
    "datalore": {
     "hide_input_from_viewers": false,
     "hide_output_from_viewers": false,
     "type": "CODE"
    },
    "execution": {
     "iopub.execute_input": "2022-11-21T06:38:58.730214Z",
     "iopub.status.busy": "2022-11-21T06:38:58.729308Z",
     "iopub.status.idle": "2022-11-21T06:38:58.857262Z",
     "shell.execute_reply": "2022-11-21T06:38:58.855672Z"
    },
    "papermill": {
     "duration": 0.148071,
     "end_time": "2022-11-21T06:38:58.860895",
     "exception": false,
     "start_time": "2022-11-21T06:38:58.712824",
     "status": "completed"
    },
    "tags": []
   },
   "outputs": [
    {
     "name": "stdout",
     "output_type": "stream",
     "text": [
      "<class 'pandas.core.frame.DataFrame'>\n",
      "RangeIndex: 541909 entries, 0 to 541908\n",
      "Data columns (total 8 columns):\n",
      " #   Column       Non-Null Count   Dtype         \n",
      "---  ------       --------------   -----         \n",
      " 0   InvoiceNo    541909 non-null  object        \n",
      " 1   StockCode    541909 non-null  object        \n",
      " 2   Description  540455 non-null  object        \n",
      " 3   Quantity     541909 non-null  int64         \n",
      " 4   InvoiceDate  541909 non-null  datetime64[ns]\n",
      " 5   UnitPrice    541909 non-null  float64       \n",
      " 6   CustomerID   406829 non-null  float64       \n",
      " 7   Country      541909 non-null  object        \n",
      "dtypes: datetime64[ns](1), float64(2), int64(1), object(4)\n",
      "memory usage: 33.1+ MB\n"
     ]
    }
   ],
   "source": [
    "# Displays datatype, number of non null values and general properties of fields\n",
    "df_retail.info() "
   ]
  },
  {
   "cell_type": "markdown",
   "id": "dec15415",
   "metadata": {
    "papermill": {
     "duration": 0.013962,
     "end_time": "2022-11-21T06:38:58.889464",
     "exception": false,
     "start_time": "2022-11-21T06:38:58.875502",
     "status": "completed"
    },
    "tags": []
   },
   "source": [
    "We can see that number of non null values in customer ID and Description is lower than the rest of the columns, thus there exists null values in both. For puropses of customer segmentation, description is not relevant and hence the entries with null values for it need not be removed. "
   ]
  },
  {
   "cell_type": "code",
   "execution_count": 4,
   "id": "7950fd31",
   "metadata": {
    "datalore": {
     "hide_input_from_viewers": false,
     "hide_output_from_viewers": false,
     "type": "CODE"
    },
    "execution": {
     "iopub.execute_input": "2022-11-21T06:38:58.922041Z",
     "iopub.status.busy": "2022-11-21T06:38:58.920766Z",
     "iopub.status.idle": "2022-11-21T06:38:58.929358Z",
     "shell.execute_reply": "2022-11-21T06:38:58.928072Z"
    },
    "papermill": {
     "duration": 0.026782,
     "end_time": "2022-11-21T06:38:58.931968",
     "exception": false,
     "start_time": "2022-11-21T06:38:58.905186",
     "status": "completed"
    },
    "tags": []
   },
   "outputs": [
    {
     "name": "stdout",
     "output_type": "stream",
     "text": [
      "The number of null entries for CustomerID is : 135080\n"
     ]
    }
   ],
   "source": [
    "# Number of null entries in customer ID\n",
    "print(\"The number of null entries for CustomerID is : {}\".format(df_retail['CustomerID'].isna().sum()))"
   ]
  },
  {
   "cell_type": "code",
   "execution_count": 5,
   "id": "d64e6a78",
   "metadata": {
    "datalore": {
     "hide_input_from_viewers": false,
     "hide_output_from_viewers": false,
     "type": "CODE"
    },
    "execution": {
     "iopub.execute_input": "2022-11-21T06:38:58.962345Z",
     "iopub.status.busy": "2022-11-21T06:38:58.961890Z",
     "iopub.status.idle": "2022-11-21T06:38:59.263074Z",
     "shell.execute_reply": "2022-11-21T06:38:59.262065Z"
    },
    "papermill": {
     "duration": 0.319065,
     "end_time": "2022-11-21T06:38:59.265267",
     "exception": false,
     "start_time": "2022-11-21T06:38:58.946202",
     "status": "completed"
    },
    "tags": []
   },
   "outputs": [
    {
     "name": "stdout",
     "output_type": "stream",
     "text": [
      "The number of duplicate entries : 5268\n"
     ]
    }
   ],
   "source": [
    "# Checks the number of duplicates\n",
    "print(\"The number of duplicate entries : {}\".format(df_retail.duplicated().sum())) "
   ]
  },
  {
   "cell_type": "markdown",
   "id": "8dca04be",
   "metadata": {
    "papermill": {
     "duration": 0.013978,
     "end_time": "2022-11-21T06:38:59.293542",
     "exception": false,
     "start_time": "2022-11-21T06:38:59.279564",
     "status": "completed"
    },
    "tags": []
   },
   "source": [
    "The country wise distribution can be helpful to further filter out data. "
   ]
  },
  {
   "cell_type": "code",
   "execution_count": 6,
   "id": "de133a09",
   "metadata": {
    "datalore": {
     "hide_input_from_viewers": false,
     "hide_output_from_viewers": false,
     "type": "CODE"
    },
    "execution": {
     "iopub.execute_input": "2022-11-21T06:38:59.324393Z",
     "iopub.status.busy": "2022-11-21T06:38:59.323748Z",
     "iopub.status.idle": "2022-11-21T06:38:59.432276Z",
     "shell.execute_reply": "2022-11-21T06:38:59.431391Z"
    },
    "papermill": {
     "duration": 0.127015,
     "end_time": "2022-11-21T06:38:59.434740",
     "exception": false,
     "start_time": "2022-11-21T06:38:59.307725",
     "status": "completed"
    },
    "tags": []
   },
   "outputs": [
    {
     "data": {
      "application/vnd.jupyter.widget-view+json": {
       "model_id": "89b521a8ec67471c9662568ee0018c21",
       "version_major": 2,
       "version_minor": 0
      },
      "text/plain": [
       "Canvas(toolbar=Toolbar(toolitems=[('Home', 'Reset original view', 'home', 'home'), ('Back', 'Back to previous …"
      ]
     },
     "metadata": {},
     "output_type": "display_data"
    }
   ],
   "source": [
    "fig, ax = plt.subplots(figsize=(6,6))\n",
    "country_counts = df_retail['Country'].value_counts()\n",
    "country_counts=country_counts.reset_index()\n",
    "country_counts.columns=['Country','Count']\n",
    "ax=sns.barplot(x='Country', y='Count',data=country_counts.head(10),estimator=max,ax=ax)\n",
    "ax.set_xticklabels(ax.get_xticklabels(), rotation=30)\n",
    "ax.set_title('Transactions in top 10 countries', fontsize = 14)\n",
    "plt.show()"
   ]
  },
  {
   "cell_type": "markdown",
   "id": "42ee4eb7",
   "metadata": {
    "papermill": {
     "duration": 0.014721,
     "end_time": "2022-11-21T06:38:59.464078",
     "exception": false,
     "start_time": "2022-11-21T06:38:59.449357",
     "status": "completed"
    },
    "tags": []
   },
   "source": [
    "A large majority of orders are from the United Kingdom."
   ]
  },
  {
   "cell_type": "markdown",
   "id": "82addfd7",
   "metadata": {
    "papermill": {
     "duration": 0.014762,
     "end_time": "2022-11-21T06:38:59.493546",
     "exception": false,
     "start_time": "2022-11-21T06:38:59.478784",
     "status": "completed"
    },
    "tags": []
   },
   "source": [
    "## Data Preprocessing\n",
    "**Some insights made so far**:\n",
    "- There exists 133252 null entries in CustomerID.\n",
    "- There are 5268 duplicate entries.\n",
    "- Most of the entries are from the UK.\n",
    "\n",
    "First, the duplicate entries, entries with Country other than UK and entries with null values for CustomerID will be dropped."
   ]
  },
  {
   "cell_type": "code",
   "execution_count": 7,
   "id": "a46db8a1",
   "metadata": {
    "datalore": {
     "hide_input_from_viewers": false,
     "hide_output_from_viewers": false,
     "type": "CODE"
    },
    "execution": {
     "iopub.execute_input": "2022-11-21T06:38:59.525598Z",
     "iopub.status.busy": "2022-11-21T06:38:59.525152Z",
     "iopub.status.idle": "2022-11-21T06:39:00.159336Z",
     "shell.execute_reply": "2022-11-21T06:39:00.157852Z"
    },
    "papermill": {
     "duration": 0.653401,
     "end_time": "2022-11-21T06:39:00.162163",
     "exception": false,
     "start_time": "2022-11-21T06:38:59.508762",
     "status": "completed"
    },
    "tags": []
   },
   "outputs": [
    {
     "data": {
      "text/plain": [
       "0"
      ]
     },
     "execution_count": 7,
     "metadata": {},
     "output_type": "execute_result"
    }
   ],
   "source": [
    "# Removes all duplicates keeping the first instance\n",
    "df_retail.drop_duplicates(keep='first',inplace=True) \n",
    "df_retail.duplicated().sum()"
   ]
  },
  {
   "cell_type": "code",
   "execution_count": 8,
   "id": "af81b4c1",
   "metadata": {
    "datalore": {
     "hide_input_from_viewers": false,
     "hide_output_from_viewers": false,
     "type": "CODE"
    },
    "execution": {
     "iopub.execute_input": "2022-11-21T06:39:00.194305Z",
     "iopub.status.busy": "2022-11-21T06:39:00.193884Z",
     "iopub.status.idle": "2022-11-21T06:39:00.341221Z",
     "shell.execute_reply": "2022-11-21T06:39:00.339442Z"
    },
    "papermill": {
     "duration": 0.167052,
     "end_time": "2022-11-21T06:39:00.344126",
     "exception": false,
     "start_time": "2022-11-21T06:39:00.177074",
     "status": "completed"
    },
    "tags": []
   },
   "outputs": [
    {
     "name": "stdout",
     "output_type": "stream",
     "text": [
      "<class 'pandas.core.frame.DataFrame'>\n",
      "Int64Index: 401604 entries, 0 to 541908\n",
      "Data columns (total 8 columns):\n",
      " #   Column       Non-Null Count   Dtype         \n",
      "---  ------       --------------   -----         \n",
      " 0   InvoiceNo    401604 non-null  object        \n",
      " 1   StockCode    401604 non-null  object        \n",
      " 2   Description  401604 non-null  object        \n",
      " 3   Quantity     401604 non-null  int64         \n",
      " 4   InvoiceDate  401604 non-null  datetime64[ns]\n",
      " 5   UnitPrice    401604 non-null  float64       \n",
      " 6   CustomerID   401604 non-null  float64       \n",
      " 7   Country      401604 non-null  object        \n",
      "dtypes: datetime64[ns](1), float64(2), int64(1), object(4)\n",
      "memory usage: 27.6+ MB\n"
     ]
    }
   ],
   "source": [
    "# Drop rows with null entries in CustomerID\n",
    "df_retail=df_retail.dropna(subset=['CustomerID'])\n",
    "df_retail.info()"
   ]
  },
  {
   "cell_type": "code",
   "execution_count": 9,
   "id": "1cbe2f9b",
   "metadata": {
    "execution": {
     "iopub.execute_input": "2022-11-21T06:39:00.375776Z",
     "iopub.status.busy": "2022-11-21T06:39:00.375377Z",
     "iopub.status.idle": "2022-11-21T06:39:00.441530Z",
     "shell.execute_reply": "2022-11-21T06:39:00.440184Z"
    },
    "papermill": {
     "duration": 0.085165,
     "end_time": "2022-11-21T06:39:00.444110",
     "exception": false,
     "start_time": "2022-11-21T06:39:00.358945",
     "status": "completed"
    },
    "tags": []
   },
   "outputs": [
    {
     "data": {
      "text/html": [
       "<div>\n",
       "<style scoped>\n",
       "    .dataframe tbody tr th:only-of-type {\n",
       "        vertical-align: middle;\n",
       "    }\n",
       "\n",
       "    .dataframe tbody tr th {\n",
       "        vertical-align: top;\n",
       "    }\n",
       "\n",
       "    .dataframe thead th {\n",
       "        text-align: right;\n",
       "    }\n",
       "</style>\n",
       "<table border=\"1\" class=\"dataframe\">\n",
       "  <thead>\n",
       "    <tr style=\"text-align: right;\">\n",
       "      <th></th>\n",
       "      <th>Quantity</th>\n",
       "      <th>UnitPrice</th>\n",
       "      <th>CustomerID</th>\n",
       "    </tr>\n",
       "  </thead>\n",
       "  <tbody>\n",
       "    <tr>\n",
       "      <th>count</th>\n",
       "      <td>401604.000000</td>\n",
       "      <td>401604.000000</td>\n",
       "      <td>401604.000000</td>\n",
       "    </tr>\n",
       "    <tr>\n",
       "      <th>mean</th>\n",
       "      <td>12.183273</td>\n",
       "      <td>3.474064</td>\n",
       "      <td>15281.160818</td>\n",
       "    </tr>\n",
       "    <tr>\n",
       "      <th>std</th>\n",
       "      <td>250.283037</td>\n",
       "      <td>69.764035</td>\n",
       "      <td>1714.006089</td>\n",
       "    </tr>\n",
       "    <tr>\n",
       "      <th>min</th>\n",
       "      <td>-80995.000000</td>\n",
       "      <td>0.000000</td>\n",
       "      <td>12346.000000</td>\n",
       "    </tr>\n",
       "    <tr>\n",
       "      <th>25%</th>\n",
       "      <td>2.000000</td>\n",
       "      <td>1.250000</td>\n",
       "      <td>13939.000000</td>\n",
       "    </tr>\n",
       "    <tr>\n",
       "      <th>50%</th>\n",
       "      <td>5.000000</td>\n",
       "      <td>1.950000</td>\n",
       "      <td>15145.000000</td>\n",
       "    </tr>\n",
       "    <tr>\n",
       "      <th>75%</th>\n",
       "      <td>12.000000</td>\n",
       "      <td>3.750000</td>\n",
       "      <td>16784.000000</td>\n",
       "    </tr>\n",
       "    <tr>\n",
       "      <th>max</th>\n",
       "      <td>80995.000000</td>\n",
       "      <td>38970.000000</td>\n",
       "      <td>18287.000000</td>\n",
       "    </tr>\n",
       "  </tbody>\n",
       "</table>\n",
       "</div>"
      ],
      "text/plain": [
       "            Quantity      UnitPrice     CustomerID\n",
       "count  401604.000000  401604.000000  401604.000000\n",
       "mean       12.183273       3.474064   15281.160818\n",
       "std       250.283037      69.764035    1714.006089\n",
       "min    -80995.000000       0.000000   12346.000000\n",
       "25%         2.000000       1.250000   13939.000000\n",
       "50%         5.000000       1.950000   15145.000000\n",
       "75%        12.000000       3.750000   16784.000000\n",
       "max     80995.000000   38970.000000   18287.000000"
      ]
     },
     "execution_count": 9,
     "metadata": {},
     "output_type": "execute_result"
    }
   ],
   "source": [
    "df_retail.describe()"
   ]
  },
  {
   "cell_type": "markdown",
   "id": "ab1f4fc7",
   "metadata": {
    "papermill": {
     "duration": 0.015283,
     "end_time": "2022-11-21T06:39:00.475044",
     "exception": false,
     "start_time": "2022-11-21T06:39:00.459761",
     "status": "completed"
    },
    "tags": []
   },
   "source": [
    "The minimum valuse of quantity and unit price are negative. This is not physically possible and could happen only due to canceled orders. According to the data description, the InvoiceNo of canceled orders contains the letter 'C' in them. These canceled order entries have to be removed to filter out actual transactions."
   ]
  },
  {
   "cell_type": "code",
   "execution_count": 10,
   "id": "8a980e80",
   "metadata": {
    "datalore": {
     "hide_input_from_viewers": false,
     "hide_output_from_viewers": false,
     "type": "CODE"
    },
    "execution": {
     "iopub.execute_input": "2022-11-21T06:39:00.507815Z",
     "iopub.status.busy": "2022-11-21T06:39:00.507383Z",
     "iopub.status.idle": "2022-11-21T06:39:01.536419Z",
     "shell.execute_reply": "2022-11-21T06:39:01.534859Z"
    },
    "papermill": {
     "duration": 1.048955,
     "end_time": "2022-11-21T06:39:01.539199",
     "exception": false,
     "start_time": "2022-11-21T06:39:00.490244",
     "status": "completed"
    },
    "tags": []
   },
   "outputs": [
    {
     "name": "stdout",
     "output_type": "stream",
     "text": [
      "The canceled orders are : 0         False\n",
      "1         False\n",
      "2         False\n",
      "3         False\n",
      "4         False\n",
      "          ...  \n",
      "541904    False\n",
      "541905    False\n",
      "541906    False\n",
      "541907    False\n",
      "541908    False\n",
      "Name: InvoiceNo, Length: 401604, dtype: bool\n"
     ]
    }
   ],
   "source": [
    "# removes all cancelled orders\n",
    "print(\"The canceled orders are : {}\".format(df_retail[\"InvoiceNo\"].str.contains(\"C\", na=False)))\n",
    "df_retail = df_retail[~df_retail[\"InvoiceNo\"].str.contains(\"C\", na=False)] "
   ]
  },
  {
   "cell_type": "code",
   "execution_count": 11,
   "id": "d4dbab52",
   "metadata": {
    "execution": {
     "iopub.execute_input": "2022-11-21T06:39:01.571762Z",
     "iopub.status.busy": "2022-11-21T06:39:01.571344Z",
     "iopub.status.idle": "2022-11-21T06:39:01.635919Z",
     "shell.execute_reply": "2022-11-21T06:39:01.634898Z"
    },
    "papermill": {
     "duration": 0.083993,
     "end_time": "2022-11-21T06:39:01.638376",
     "exception": false,
     "start_time": "2022-11-21T06:39:01.554383",
     "status": "completed"
    },
    "tags": []
   },
   "outputs": [
    {
     "data": {
      "text/html": [
       "<div>\n",
       "<style scoped>\n",
       "    .dataframe tbody tr th:only-of-type {\n",
       "        vertical-align: middle;\n",
       "    }\n",
       "\n",
       "    .dataframe tbody tr th {\n",
       "        vertical-align: top;\n",
       "    }\n",
       "\n",
       "    .dataframe thead th {\n",
       "        text-align: right;\n",
       "    }\n",
       "</style>\n",
       "<table border=\"1\" class=\"dataframe\">\n",
       "  <thead>\n",
       "    <tr style=\"text-align: right;\">\n",
       "      <th></th>\n",
       "      <th>Quantity</th>\n",
       "      <th>UnitPrice</th>\n",
       "      <th>CustomerID</th>\n",
       "    </tr>\n",
       "  </thead>\n",
       "  <tbody>\n",
       "    <tr>\n",
       "      <th>count</th>\n",
       "      <td>392732.000000</td>\n",
       "      <td>392732.000000</td>\n",
       "      <td>392732.000000</td>\n",
       "    </tr>\n",
       "    <tr>\n",
       "      <th>mean</th>\n",
       "      <td>13.153718</td>\n",
       "      <td>3.125596</td>\n",
       "      <td>15287.734822</td>\n",
       "    </tr>\n",
       "    <tr>\n",
       "      <th>std</th>\n",
       "      <td>181.588420</td>\n",
       "      <td>22.240725</td>\n",
       "      <td>1713.567773</td>\n",
       "    </tr>\n",
       "    <tr>\n",
       "      <th>min</th>\n",
       "      <td>1.000000</td>\n",
       "      <td>0.000000</td>\n",
       "      <td>12346.000000</td>\n",
       "    </tr>\n",
       "    <tr>\n",
       "      <th>25%</th>\n",
       "      <td>2.000000</td>\n",
       "      <td>1.250000</td>\n",
       "      <td>13955.000000</td>\n",
       "    </tr>\n",
       "    <tr>\n",
       "      <th>50%</th>\n",
       "      <td>6.000000</td>\n",
       "      <td>1.950000</td>\n",
       "      <td>15150.000000</td>\n",
       "    </tr>\n",
       "    <tr>\n",
       "      <th>75%</th>\n",
       "      <td>12.000000</td>\n",
       "      <td>3.750000</td>\n",
       "      <td>16791.000000</td>\n",
       "    </tr>\n",
       "    <tr>\n",
       "      <th>max</th>\n",
       "      <td>80995.000000</td>\n",
       "      <td>8142.750000</td>\n",
       "      <td>18287.000000</td>\n",
       "    </tr>\n",
       "  </tbody>\n",
       "</table>\n",
       "</div>"
      ],
      "text/plain": [
       "            Quantity      UnitPrice     CustomerID\n",
       "count  392732.000000  392732.000000  392732.000000\n",
       "mean       13.153718       3.125596   15287.734822\n",
       "std       181.588420      22.240725    1713.567773\n",
       "min         1.000000       0.000000   12346.000000\n",
       "25%         2.000000       1.250000   13955.000000\n",
       "50%         6.000000       1.950000   15150.000000\n",
       "75%        12.000000       3.750000   16791.000000\n",
       "max     80995.000000    8142.750000   18287.000000"
      ]
     },
     "execution_count": 11,
     "metadata": {},
     "output_type": "execute_result"
    }
   ],
   "source": [
    "df_retail.describe()"
   ]
  },
  {
   "cell_type": "markdown",
   "id": "41c5dfda",
   "metadata": {
    "papermill": {
     "duration": 0.016172,
     "end_time": "2022-11-21T06:39:01.670770",
     "exception": false,
     "start_time": "2022-11-21T06:39:01.654598",
     "status": "completed"
    },
    "tags": []
   },
   "source": [
    "There are still instances of negative values of unit price and quantity. These entries have to be removed."
   ]
  },
  {
   "cell_type": "code",
   "execution_count": 12,
   "id": "ade1096c",
   "metadata": {
    "datalore": {
     "hide_input_from_viewers": false,
     "hide_output_from_viewers": false,
     "type": "CODE"
    },
    "execution": {
     "iopub.execute_input": "2022-11-21T06:39:01.703222Z",
     "iopub.status.busy": "2022-11-21T06:39:01.702839Z",
     "iopub.status.idle": "2022-11-21T06:39:01.848744Z",
     "shell.execute_reply": "2022-11-21T06:39:01.847381Z"
    },
    "papermill": {
     "duration": 0.165982,
     "end_time": "2022-11-21T06:39:01.852036",
     "exception": false,
     "start_time": "2022-11-21T06:39:01.686054",
     "status": "completed"
    },
    "tags": []
   },
   "outputs": [
    {
     "name": "stdout",
     "output_type": "stream",
     "text": [
      "<class 'pandas.core.frame.DataFrame'>\n",
      "Int64Index: 392692 entries, 0 to 541908\n",
      "Data columns (total 8 columns):\n",
      " #   Column       Non-Null Count   Dtype         \n",
      "---  ------       --------------   -----         \n",
      " 0   InvoiceNo    392692 non-null  object        \n",
      " 1   StockCode    392692 non-null  object        \n",
      " 2   Description  392692 non-null  object        \n",
      " 3   Quantity     392692 non-null  int64         \n",
      " 4   InvoiceDate  392692 non-null  datetime64[ns]\n",
      " 5   UnitPrice    392692 non-null  float64       \n",
      " 6   CustomerID   392692 non-null  float64       \n",
      " 7   Country      392692 non-null  object        \n",
      "dtypes: datetime64[ns](1), float64(2), int64(1), object(4)\n",
      "memory usage: 27.0+ MB\n"
     ]
    }
   ],
   "source": [
    "# Keep only non negative values of Price and Quantity\n",
    "df_retail = df_retail[(df_retail['UnitPrice']>0) & (df_retail['Quantity']>0)]\n",
    "df_retail.info()"
   ]
  },
  {
   "cell_type": "markdown",
   "id": "7399b7a4",
   "metadata": {
    "papermill": {
     "duration": 0.014986,
     "end_time": "2022-11-21T06:39:01.883086",
     "exception": false,
     "start_time": "2022-11-21T06:39:01.868100",
     "status": "completed"
    },
    "tags": []
   },
   "source": [
    "## RFM Analysis\n",
    "For the purpose of clustering, first we have to define Recency, Frequency and Monetary values.\n",
    "- **Monetary value**- It can be the net amount recieved by the comany from one customer. i.e The sum of quantity times unit price across all transactions of a given customer.\n",
    "- **Frequency**- This can be defined as the number of purchases made by one customer. i.e the numbver of transactions per customer.\n",
    "- **Recency**- The time between last transaction and current date. Here, we can assume the most recent transaction date to be the correct date. \n"
   ]
  },
  {
   "cell_type": "code",
   "execution_count": 13,
   "id": "29cd7d51",
   "metadata": {
    "datalore": {
     "hide_input_from_viewers": false,
     "hide_output_from_viewers": false,
     "type": "CODE"
    },
    "execution": {
     "iopub.execute_input": "2022-11-21T06:39:01.916784Z",
     "iopub.status.busy": "2022-11-21T06:39:01.916382Z",
     "iopub.status.idle": "2022-11-21T06:39:01.936738Z",
     "shell.execute_reply": "2022-11-21T06:39:01.935458Z"
    },
    "papermill": {
     "duration": 0.040506,
     "end_time": "2022-11-21T06:39:01.939579",
     "exception": false,
     "start_time": "2022-11-21T06:39:01.899073",
     "status": "completed"
    },
    "tags": []
   },
   "outputs": [
    {
     "data": {
      "text/html": [
       "<div>\n",
       "<style scoped>\n",
       "    .dataframe tbody tr th:only-of-type {\n",
       "        vertical-align: middle;\n",
       "    }\n",
       "\n",
       "    .dataframe tbody tr th {\n",
       "        vertical-align: top;\n",
       "    }\n",
       "\n",
       "    .dataframe thead th {\n",
       "        text-align: right;\n",
       "    }\n",
       "</style>\n",
       "<table border=\"1\" class=\"dataframe\">\n",
       "  <thead>\n",
       "    <tr style=\"text-align: right;\">\n",
       "      <th></th>\n",
       "      <th>InvoiceNo</th>\n",
       "      <th>StockCode</th>\n",
       "      <th>Description</th>\n",
       "      <th>Quantity</th>\n",
       "      <th>InvoiceDate</th>\n",
       "      <th>UnitPrice</th>\n",
       "      <th>CustomerID</th>\n",
       "      <th>Country</th>\n",
       "      <th>Amount</th>\n",
       "    </tr>\n",
       "  </thead>\n",
       "  <tbody>\n",
       "    <tr>\n",
       "      <th>0</th>\n",
       "      <td>536365</td>\n",
       "      <td>85123A</td>\n",
       "      <td>WHITE HANGING HEART T-LIGHT HOLDER</td>\n",
       "      <td>6</td>\n",
       "      <td>2010-12-01 08:26:00</td>\n",
       "      <td>2.55</td>\n",
       "      <td>17850.0</td>\n",
       "      <td>United Kingdom</td>\n",
       "      <td>15.30</td>\n",
       "    </tr>\n",
       "    <tr>\n",
       "      <th>1</th>\n",
       "      <td>536365</td>\n",
       "      <td>71053</td>\n",
       "      <td>WHITE METAL LANTERN</td>\n",
       "      <td>6</td>\n",
       "      <td>2010-12-01 08:26:00</td>\n",
       "      <td>3.39</td>\n",
       "      <td>17850.0</td>\n",
       "      <td>United Kingdom</td>\n",
       "      <td>20.34</td>\n",
       "    </tr>\n",
       "    <tr>\n",
       "      <th>2</th>\n",
       "      <td>536365</td>\n",
       "      <td>84406B</td>\n",
       "      <td>CREAM CUPID HEARTS COAT HANGER</td>\n",
       "      <td>8</td>\n",
       "      <td>2010-12-01 08:26:00</td>\n",
       "      <td>2.75</td>\n",
       "      <td>17850.0</td>\n",
       "      <td>United Kingdom</td>\n",
       "      <td>22.00</td>\n",
       "    </tr>\n",
       "    <tr>\n",
       "      <th>3</th>\n",
       "      <td>536365</td>\n",
       "      <td>84029G</td>\n",
       "      <td>KNITTED UNION FLAG HOT WATER BOTTLE</td>\n",
       "      <td>6</td>\n",
       "      <td>2010-12-01 08:26:00</td>\n",
       "      <td>3.39</td>\n",
       "      <td>17850.0</td>\n",
       "      <td>United Kingdom</td>\n",
       "      <td>20.34</td>\n",
       "    </tr>\n",
       "    <tr>\n",
       "      <th>4</th>\n",
       "      <td>536365</td>\n",
       "      <td>84029E</td>\n",
       "      <td>RED WOOLLY HOTTIE WHITE HEART.</td>\n",
       "      <td>6</td>\n",
       "      <td>2010-12-01 08:26:00</td>\n",
       "      <td>3.39</td>\n",
       "      <td>17850.0</td>\n",
       "      <td>United Kingdom</td>\n",
       "      <td>20.34</td>\n",
       "    </tr>\n",
       "  </tbody>\n",
       "</table>\n",
       "</div>"
      ],
      "text/plain": [
       "  InvoiceNo StockCode                          Description  Quantity  \\\n",
       "0    536365    85123A   WHITE HANGING HEART T-LIGHT HOLDER         6   \n",
       "1    536365     71053                  WHITE METAL LANTERN         6   \n",
       "2    536365    84406B       CREAM CUPID HEARTS COAT HANGER         8   \n",
       "3    536365    84029G  KNITTED UNION FLAG HOT WATER BOTTLE         6   \n",
       "4    536365    84029E       RED WOOLLY HOTTIE WHITE HEART.         6   \n",
       "\n",
       "          InvoiceDate  UnitPrice  CustomerID         Country  Amount  \n",
       "0 2010-12-01 08:26:00       2.55     17850.0  United Kingdom   15.30  \n",
       "1 2010-12-01 08:26:00       3.39     17850.0  United Kingdom   20.34  \n",
       "2 2010-12-01 08:26:00       2.75     17850.0  United Kingdom   22.00  \n",
       "3 2010-12-01 08:26:00       3.39     17850.0  United Kingdom   20.34  \n",
       "4 2010-12-01 08:26:00       3.39     17850.0  United Kingdom   20.34  "
      ]
     },
     "execution_count": 13,
     "metadata": {},
     "output_type": "execute_result"
    }
   ],
   "source": [
    "# Calculates amount as product of unit price and Quantity\n",
    "df_retail['Amount']=df_retail['Quantity']*df_retail['UnitPrice']\n",
    "df_retail.head()"
   ]
  },
  {
   "cell_type": "code",
   "execution_count": 14,
   "id": "63e12ee9",
   "metadata": {
    "datalore": {
     "hide_input_from_viewers": false,
     "hide_output_from_viewers": false,
     "type": "CODE"
    },
    "execution": {
     "iopub.execute_input": "2022-11-21T06:39:01.973067Z",
     "iopub.status.busy": "2022-11-21T06:39:01.972386Z",
     "iopub.status.idle": "2022-11-21T06:39:01.998464Z",
     "shell.execute_reply": "2022-11-21T06:39:01.997296Z"
    },
    "papermill": {
     "duration": 0.04565,
     "end_time": "2022-11-21T06:39:02.001171",
     "exception": false,
     "start_time": "2022-11-21T06:39:01.955521",
     "status": "completed"
    },
    "tags": []
   },
   "outputs": [
    {
     "data": {
      "text/html": [
       "<div>\n",
       "<style scoped>\n",
       "    .dataframe tbody tr th:only-of-type {\n",
       "        vertical-align: middle;\n",
       "    }\n",
       "\n",
       "    .dataframe tbody tr th {\n",
       "        vertical-align: top;\n",
       "    }\n",
       "\n",
       "    .dataframe thead th {\n",
       "        text-align: right;\n",
       "    }\n",
       "</style>\n",
       "<table border=\"1\" class=\"dataframe\">\n",
       "  <thead>\n",
       "    <tr style=\"text-align: right;\">\n",
       "      <th></th>\n",
       "      <th>CustomerID</th>\n",
       "      <th>Amount</th>\n",
       "    </tr>\n",
       "  </thead>\n",
       "  <tbody>\n",
       "    <tr>\n",
       "      <th>0</th>\n",
       "      <td>12346.0</td>\n",
       "      <td>77183.60</td>\n",
       "    </tr>\n",
       "    <tr>\n",
       "      <th>1</th>\n",
       "      <td>12347.0</td>\n",
       "      <td>4310.00</td>\n",
       "    </tr>\n",
       "    <tr>\n",
       "      <th>2</th>\n",
       "      <td>12348.0</td>\n",
       "      <td>1797.24</td>\n",
       "    </tr>\n",
       "    <tr>\n",
       "      <th>3</th>\n",
       "      <td>12349.0</td>\n",
       "      <td>1757.55</td>\n",
       "    </tr>\n",
       "    <tr>\n",
       "      <th>4</th>\n",
       "      <td>12350.0</td>\n",
       "      <td>334.40</td>\n",
       "    </tr>\n",
       "  </tbody>\n",
       "</table>\n",
       "</div>"
      ],
      "text/plain": [
       "   CustomerID    Amount\n",
       "0     12346.0  77183.60\n",
       "1     12347.0   4310.00\n",
       "2     12348.0   1797.24\n",
       "3     12349.0   1757.55\n",
       "4     12350.0    334.40"
      ]
     },
     "execution_count": 14,
     "metadata": {},
     "output_type": "execute_result"
    }
   ],
   "source": [
    "# Calculates total monetary value of each customers as sum of Amount of all transactions and stores in new dataframe\n",
    "monetary=df_retail.groupby('CustomerID')['Amount'].sum()\n",
    "monetary = monetary.reset_index()\n",
    "monetary.head()"
   ]
  },
  {
   "cell_type": "code",
   "execution_count": 15,
   "id": "b57e0c5f",
   "metadata": {
    "datalore": {
     "hide_input_from_viewers": false,
     "hide_output_from_viewers": false,
     "type": "CODE"
    },
    "execution": {
     "iopub.execute_input": "2022-11-21T06:39:02.034389Z",
     "iopub.status.busy": "2022-11-21T06:39:02.034010Z",
     "iopub.status.idle": "2022-11-21T06:39:02.077767Z",
     "shell.execute_reply": "2022-11-21T06:39:02.076445Z"
    },
    "papermill": {
     "duration": 0.063474,
     "end_time": "2022-11-21T06:39:02.080464",
     "exception": false,
     "start_time": "2022-11-21T06:39:02.016990",
     "status": "completed"
    },
    "tags": []
   },
   "outputs": [
    {
     "data": {
      "text/html": [
       "<div>\n",
       "<style scoped>\n",
       "    .dataframe tbody tr th:only-of-type {\n",
       "        vertical-align: middle;\n",
       "    }\n",
       "\n",
       "    .dataframe tbody tr th {\n",
       "        vertical-align: top;\n",
       "    }\n",
       "\n",
       "    .dataframe thead th {\n",
       "        text-align: right;\n",
       "    }\n",
       "</style>\n",
       "<table border=\"1\" class=\"dataframe\">\n",
       "  <thead>\n",
       "    <tr style=\"text-align: right;\">\n",
       "      <th></th>\n",
       "      <th>CustomerID</th>\n",
       "      <th>InvoiceNo</th>\n",
       "    </tr>\n",
       "  </thead>\n",
       "  <tbody>\n",
       "    <tr>\n",
       "      <th>0</th>\n",
       "      <td>12346.0</td>\n",
       "      <td>1</td>\n",
       "    </tr>\n",
       "    <tr>\n",
       "      <th>1</th>\n",
       "      <td>12347.0</td>\n",
       "      <td>182</td>\n",
       "    </tr>\n",
       "    <tr>\n",
       "      <th>2</th>\n",
       "      <td>12348.0</td>\n",
       "      <td>31</td>\n",
       "    </tr>\n",
       "    <tr>\n",
       "      <th>3</th>\n",
       "      <td>12349.0</td>\n",
       "      <td>73</td>\n",
       "    </tr>\n",
       "    <tr>\n",
       "      <th>4</th>\n",
       "      <td>12350.0</td>\n",
       "      <td>17</td>\n",
       "    </tr>\n",
       "  </tbody>\n",
       "</table>\n",
       "</div>"
      ],
      "text/plain": [
       "   CustomerID  InvoiceNo\n",
       "0     12346.0          1\n",
       "1     12347.0        182\n",
       "2     12348.0         31\n",
       "3     12349.0         73\n",
       "4     12350.0         17"
      ]
     },
     "execution_count": 15,
     "metadata": {},
     "output_type": "execute_result"
    }
   ],
   "source": [
    "# Total number of individual transaction of customers by invoice number\n",
    "frequency = df_retail.groupby('CustomerID')['InvoiceNo'].count()\n",
    "frequency = frequency.reset_index()\n",
    "frequency.head()"
   ]
  },
  {
   "cell_type": "code",
   "execution_count": 16,
   "id": "e89a56b5",
   "metadata": {
    "datalore": {
     "hide_input_from_viewers": false,
     "hide_output_from_viewers": false,
     "type": "CODE"
    },
    "execution": {
     "iopub.execute_input": "2022-11-21T06:39:02.113771Z",
     "iopub.status.busy": "2022-11-21T06:39:02.113210Z",
     "iopub.status.idle": "2022-11-21T06:39:03.023776Z",
     "shell.execute_reply": "2022-11-21T06:39:03.022720Z"
    },
    "papermill": {
     "duration": 0.930269,
     "end_time": "2022-11-21T06:39:03.026360",
     "exception": false,
     "start_time": "2022-11-21T06:39:02.096091",
     "status": "completed"
    },
    "tags": []
   },
   "outputs": [
    {
     "data": {
      "text/html": [
       "<div>\n",
       "<style scoped>\n",
       "    .dataframe tbody tr th:only-of-type {\n",
       "        vertical-align: middle;\n",
       "    }\n",
       "\n",
       "    .dataframe tbody tr th {\n",
       "        vertical-align: top;\n",
       "    }\n",
       "\n",
       "    .dataframe thead th {\n",
       "        text-align: right;\n",
       "    }\n",
       "</style>\n",
       "<table border=\"1\" class=\"dataframe\">\n",
       "  <thead>\n",
       "    <tr style=\"text-align: right;\">\n",
       "      <th></th>\n",
       "      <th>InvoiceNo</th>\n",
       "      <th>StockCode</th>\n",
       "      <th>Description</th>\n",
       "      <th>Quantity</th>\n",
       "      <th>InvoiceDate</th>\n",
       "      <th>UnitPrice</th>\n",
       "      <th>CustomerID</th>\n",
       "      <th>Country</th>\n",
       "      <th>Amount</th>\n",
       "      <th>Latest</th>\n",
       "    </tr>\n",
       "  </thead>\n",
       "  <tbody>\n",
       "    <tr>\n",
       "      <th>0</th>\n",
       "      <td>536365</td>\n",
       "      <td>85123A</td>\n",
       "      <td>WHITE HANGING HEART T-LIGHT HOLDER</td>\n",
       "      <td>6</td>\n",
       "      <td>2010-12-01 08:26:00</td>\n",
       "      <td>2.55</td>\n",
       "      <td>17850.0</td>\n",
       "      <td>United Kingdom</td>\n",
       "      <td>15.30</td>\n",
       "      <td>373 days 04:24:00</td>\n",
       "    </tr>\n",
       "    <tr>\n",
       "      <th>1</th>\n",
       "      <td>536365</td>\n",
       "      <td>71053</td>\n",
       "      <td>WHITE METAL LANTERN</td>\n",
       "      <td>6</td>\n",
       "      <td>2010-12-01 08:26:00</td>\n",
       "      <td>3.39</td>\n",
       "      <td>17850.0</td>\n",
       "      <td>United Kingdom</td>\n",
       "      <td>20.34</td>\n",
       "      <td>373 days 04:24:00</td>\n",
       "    </tr>\n",
       "    <tr>\n",
       "      <th>2</th>\n",
       "      <td>536365</td>\n",
       "      <td>84406B</td>\n",
       "      <td>CREAM CUPID HEARTS COAT HANGER</td>\n",
       "      <td>8</td>\n",
       "      <td>2010-12-01 08:26:00</td>\n",
       "      <td>2.75</td>\n",
       "      <td>17850.0</td>\n",
       "      <td>United Kingdom</td>\n",
       "      <td>22.00</td>\n",
       "      <td>373 days 04:24:00</td>\n",
       "    </tr>\n",
       "    <tr>\n",
       "      <th>3</th>\n",
       "      <td>536365</td>\n",
       "      <td>84029G</td>\n",
       "      <td>KNITTED UNION FLAG HOT WATER BOTTLE</td>\n",
       "      <td>6</td>\n",
       "      <td>2010-12-01 08:26:00</td>\n",
       "      <td>3.39</td>\n",
       "      <td>17850.0</td>\n",
       "      <td>United Kingdom</td>\n",
       "      <td>20.34</td>\n",
       "      <td>373 days 04:24:00</td>\n",
       "    </tr>\n",
       "    <tr>\n",
       "      <th>4</th>\n",
       "      <td>536365</td>\n",
       "      <td>84029E</td>\n",
       "      <td>RED WOOLLY HOTTIE WHITE HEART.</td>\n",
       "      <td>6</td>\n",
       "      <td>2010-12-01 08:26:00</td>\n",
       "      <td>3.39</td>\n",
       "      <td>17850.0</td>\n",
       "      <td>United Kingdom</td>\n",
       "      <td>20.34</td>\n",
       "      <td>373 days 04:24:00</td>\n",
       "    </tr>\n",
       "  </tbody>\n",
       "</table>\n",
       "</div>"
      ],
      "text/plain": [
       "  InvoiceNo StockCode                          Description  Quantity  \\\n",
       "0    536365    85123A   WHITE HANGING HEART T-LIGHT HOLDER         6   \n",
       "1    536365     71053                  WHITE METAL LANTERN         6   \n",
       "2    536365    84406B       CREAM CUPID HEARTS COAT HANGER         8   \n",
       "3    536365    84029G  KNITTED UNION FLAG HOT WATER BOTTLE         6   \n",
       "4    536365    84029E       RED WOOLLY HOTTIE WHITE HEART.         6   \n",
       "\n",
       "          InvoiceDate  UnitPrice  CustomerID         Country  Amount  \\\n",
       "0 2010-12-01 08:26:00       2.55     17850.0  United Kingdom   15.30   \n",
       "1 2010-12-01 08:26:00       3.39     17850.0  United Kingdom   20.34   \n",
       "2 2010-12-01 08:26:00       2.75     17850.0  United Kingdom   22.00   \n",
       "3 2010-12-01 08:26:00       3.39     17850.0  United Kingdom   20.34   \n",
       "4 2010-12-01 08:26:00       3.39     17850.0  United Kingdom   20.34   \n",
       "\n",
       "             Latest  \n",
       "0 373 days 04:24:00  \n",
       "1 373 days 04:24:00  \n",
       "2 373 days 04:24:00  \n",
       "3 373 days 04:24:00  \n",
       "4 373 days 04:24:00  "
      ]
     },
     "execution_count": 16,
     "metadata": {},
     "output_type": "execute_result"
    }
   ],
   "source": [
    "# Number of days between each transaction and last recorded transaction \n",
    "df_retail['Latest'] = max(df_retail['InvoiceDate']) - df_retail['InvoiceDate']\n",
    "df_retail.head()"
   ]
  },
  {
   "cell_type": "code",
   "execution_count": 17,
   "id": "105593f7",
   "metadata": {
    "datalore": {
     "hide_input_from_viewers": false,
     "hide_output_from_viewers": false,
     "type": "CODE"
    },
    "execution": {
     "iopub.execute_input": "2022-11-21T06:39:03.060439Z",
     "iopub.status.busy": "2022-11-21T06:39:03.060009Z",
     "iopub.status.idle": "2022-11-21T06:39:03.091894Z",
     "shell.execute_reply": "2022-11-21T06:39:03.090441Z"
    },
    "papermill": {
     "duration": 0.052525,
     "end_time": "2022-11-21T06:39:03.095150",
     "exception": false,
     "start_time": "2022-11-21T06:39:03.042625",
     "status": "completed"
    },
    "tags": []
   },
   "outputs": [
    {
     "data": {
      "text/html": [
       "<div>\n",
       "<style scoped>\n",
       "    .dataframe tbody tr th:only-of-type {\n",
       "        vertical-align: middle;\n",
       "    }\n",
       "\n",
       "    .dataframe tbody tr th {\n",
       "        vertical-align: top;\n",
       "    }\n",
       "\n",
       "    .dataframe thead th {\n",
       "        text-align: right;\n",
       "    }\n",
       "</style>\n",
       "<table border=\"1\" class=\"dataframe\">\n",
       "  <thead>\n",
       "    <tr style=\"text-align: right;\">\n",
       "      <th></th>\n",
       "      <th>CustomerID</th>\n",
       "      <th>Latest</th>\n",
       "    </tr>\n",
       "  </thead>\n",
       "  <tbody>\n",
       "    <tr>\n",
       "      <th>0</th>\n",
       "      <td>12346.0</td>\n",
       "      <td>325 days 02:49:00</td>\n",
       "    </tr>\n",
       "    <tr>\n",
       "      <th>1</th>\n",
       "      <td>12347.0</td>\n",
       "      <td>1 days 20:58:00</td>\n",
       "    </tr>\n",
       "    <tr>\n",
       "      <th>2</th>\n",
       "      <td>12348.0</td>\n",
       "      <td>74 days 23:37:00</td>\n",
       "    </tr>\n",
       "    <tr>\n",
       "      <th>3</th>\n",
       "      <td>12349.0</td>\n",
       "      <td>18 days 02:59:00</td>\n",
       "    </tr>\n",
       "    <tr>\n",
       "      <th>4</th>\n",
       "      <td>12350.0</td>\n",
       "      <td>309 days 20:49:00</td>\n",
       "    </tr>\n",
       "  </tbody>\n",
       "</table>\n",
       "</div>"
      ],
      "text/plain": [
       "   CustomerID            Latest\n",
       "0     12346.0 325 days 02:49:00\n",
       "1     12347.0   1 days 20:58:00\n",
       "2     12348.0  74 days 23:37:00\n",
       "3     12349.0  18 days 02:59:00\n",
       "4     12350.0 309 days 20:49:00"
      ]
     },
     "execution_count": 17,
     "metadata": {},
     "output_type": "execute_result"
    }
   ],
   "source": [
    "# Most recent transaction per customer \n",
    "recency = df_retail.groupby('CustomerID')['Latest'].min()\n",
    "recency = recency.reset_index()\n",
    "recency.head()"
   ]
  },
  {
   "cell_type": "code",
   "execution_count": 18,
   "id": "c898a697",
   "metadata": {
    "datalore": {
     "hide_input_from_viewers": false,
     "hide_output_from_viewers": false,
     "type": "CODE"
    },
    "execution": {
     "iopub.execute_input": "2022-11-21T06:39:03.130683Z",
     "iopub.status.busy": "2022-11-21T06:39:03.130247Z",
     "iopub.status.idle": "2022-11-21T06:39:03.144403Z",
     "shell.execute_reply": "2022-11-21T06:39:03.143218Z"
    },
    "papermill": {
     "duration": 0.034427,
     "end_time": "2022-11-21T06:39:03.146721",
     "exception": false,
     "start_time": "2022-11-21T06:39:03.112294",
     "status": "completed"
    },
    "tags": []
   },
   "outputs": [
    {
     "data": {
      "text/html": [
       "<div>\n",
       "<style scoped>\n",
       "    .dataframe tbody tr th:only-of-type {\n",
       "        vertical-align: middle;\n",
       "    }\n",
       "\n",
       "    .dataframe tbody tr th {\n",
       "        vertical-align: top;\n",
       "    }\n",
       "\n",
       "    .dataframe thead th {\n",
       "        text-align: right;\n",
       "    }\n",
       "</style>\n",
       "<table border=\"1\" class=\"dataframe\">\n",
       "  <thead>\n",
       "    <tr style=\"text-align: right;\">\n",
       "      <th></th>\n",
       "      <th>CustomerID</th>\n",
       "      <th>Latest</th>\n",
       "    </tr>\n",
       "  </thead>\n",
       "  <tbody>\n",
       "    <tr>\n",
       "      <th>0</th>\n",
       "      <td>12346.0</td>\n",
       "      <td>325</td>\n",
       "    </tr>\n",
       "    <tr>\n",
       "      <th>1</th>\n",
       "      <td>12347.0</td>\n",
       "      <td>1</td>\n",
       "    </tr>\n",
       "    <tr>\n",
       "      <th>2</th>\n",
       "      <td>12348.0</td>\n",
       "      <td>74</td>\n",
       "    </tr>\n",
       "    <tr>\n",
       "      <th>3</th>\n",
       "      <td>12349.0</td>\n",
       "      <td>18</td>\n",
       "    </tr>\n",
       "    <tr>\n",
       "      <th>4</th>\n",
       "      <td>12350.0</td>\n",
       "      <td>309</td>\n",
       "    </tr>\n",
       "  </tbody>\n",
       "</table>\n",
       "</div>"
      ],
      "text/plain": [
       "   CustomerID  Latest\n",
       "0     12346.0     325\n",
       "1     12347.0       1\n",
       "2     12348.0      74\n",
       "3     12349.0      18\n",
       "4     12350.0     309"
      ]
     },
     "execution_count": 18,
     "metadata": {},
     "output_type": "execute_result"
    }
   ],
   "source": [
    "# Remove time from the values\n",
    "recency['Latest']=recency['Latest'].dt.days\n",
    "recency.head()"
   ]
  },
  {
   "cell_type": "code",
   "execution_count": 19,
   "id": "3672d0ac",
   "metadata": {
    "datalore": {
     "hide_input_from_viewers": false,
     "hide_output_from_viewers": false,
     "type": "CODE"
    },
    "execution": {
     "iopub.execute_input": "2022-11-21T06:39:03.181696Z",
     "iopub.status.busy": "2022-11-21T06:39:03.180800Z",
     "iopub.status.idle": "2022-11-21T06:39:03.204124Z",
     "shell.execute_reply": "2022-11-21T06:39:03.203195Z"
    },
    "papermill": {
     "duration": 0.043486,
     "end_time": "2022-11-21T06:39:03.206649",
     "exception": false,
     "start_time": "2022-11-21T06:39:03.163163",
     "status": "completed"
    },
    "tags": []
   },
   "outputs": [
    {
     "data": {
      "text/html": [
       "<div>\n",
       "<style scoped>\n",
       "    .dataframe tbody tr th:only-of-type {\n",
       "        vertical-align: middle;\n",
       "    }\n",
       "\n",
       "    .dataframe tbody tr th {\n",
       "        vertical-align: top;\n",
       "    }\n",
       "\n",
       "    .dataframe thead th {\n",
       "        text-align: right;\n",
       "    }\n",
       "</style>\n",
       "<table border=\"1\" class=\"dataframe\">\n",
       "  <thead>\n",
       "    <tr style=\"text-align: right;\">\n",
       "      <th></th>\n",
       "      <th>CustomerID</th>\n",
       "      <th>Amount</th>\n",
       "      <th>InvoiceNo</th>\n",
       "    </tr>\n",
       "  </thead>\n",
       "  <tbody>\n",
       "    <tr>\n",
       "      <th>0</th>\n",
       "      <td>12346.0</td>\n",
       "      <td>77183.60</td>\n",
       "      <td>1</td>\n",
       "    </tr>\n",
       "    <tr>\n",
       "      <th>1</th>\n",
       "      <td>12347.0</td>\n",
       "      <td>4310.00</td>\n",
       "      <td>182</td>\n",
       "    </tr>\n",
       "    <tr>\n",
       "      <th>2</th>\n",
       "      <td>12348.0</td>\n",
       "      <td>1797.24</td>\n",
       "      <td>31</td>\n",
       "    </tr>\n",
       "    <tr>\n",
       "      <th>3</th>\n",
       "      <td>12349.0</td>\n",
       "      <td>1757.55</td>\n",
       "      <td>73</td>\n",
       "    </tr>\n",
       "    <tr>\n",
       "      <th>4</th>\n",
       "      <td>12350.0</td>\n",
       "      <td>334.40</td>\n",
       "      <td>17</td>\n",
       "    </tr>\n",
       "  </tbody>\n",
       "</table>\n",
       "</div>"
      ],
      "text/plain": [
       "   CustomerID    Amount  InvoiceNo\n",
       "0     12346.0  77183.60          1\n",
       "1     12347.0   4310.00        182\n",
       "2     12348.0   1797.24         31\n",
       "3     12349.0   1757.55         73\n",
       "4     12350.0    334.40         17"
      ]
     },
     "execution_count": 19,
     "metadata": {},
     "output_type": "execute_result"
    }
   ],
   "source": [
    "# Merge monetary and frequency tables based on CustomerID\n",
    "rfm = pd.merge(monetary, frequency, on='CustomerID', how='inner')\n",
    "rfm.head()"
   ]
  },
  {
   "cell_type": "code",
   "execution_count": 20,
   "id": "3c8dc3bb",
   "metadata": {
    "datalore": {
     "hide_input_from_viewers": false,
     "hide_output_from_viewers": false,
     "type": "CODE"
    },
    "execution": {
     "iopub.execute_input": "2022-11-21T06:39:03.242552Z",
     "iopub.status.busy": "2022-11-21T06:39:03.242083Z",
     "iopub.status.idle": "2022-11-21T06:39:03.261784Z",
     "shell.execute_reply": "2022-11-21T06:39:03.260151Z"
    },
    "papermill": {
     "duration": 0.041451,
     "end_time": "2022-11-21T06:39:03.264601",
     "exception": false,
     "start_time": "2022-11-21T06:39:03.223150",
     "status": "completed"
    },
    "tags": []
   },
   "outputs": [
    {
     "data": {
      "text/html": [
       "<div>\n",
       "<style scoped>\n",
       "    .dataframe tbody tr th:only-of-type {\n",
       "        vertical-align: middle;\n",
       "    }\n",
       "\n",
       "    .dataframe tbody tr th {\n",
       "        vertical-align: top;\n",
       "    }\n",
       "\n",
       "    .dataframe thead th {\n",
       "        text-align: right;\n",
       "    }\n",
       "</style>\n",
       "<table border=\"1\" class=\"dataframe\">\n",
       "  <thead>\n",
       "    <tr style=\"text-align: right;\">\n",
       "      <th></th>\n",
       "      <th>CustomerID</th>\n",
       "      <th>Monetary</th>\n",
       "      <th>Frequency</th>\n",
       "      <th>Recency</th>\n",
       "    </tr>\n",
       "  </thead>\n",
       "  <tbody>\n",
       "    <tr>\n",
       "      <th>0</th>\n",
       "      <td>12346.0</td>\n",
       "      <td>77183.60</td>\n",
       "      <td>1</td>\n",
       "      <td>325</td>\n",
       "    </tr>\n",
       "    <tr>\n",
       "      <th>1</th>\n",
       "      <td>12347.0</td>\n",
       "      <td>4310.00</td>\n",
       "      <td>182</td>\n",
       "      <td>1</td>\n",
       "    </tr>\n",
       "    <tr>\n",
       "      <th>2</th>\n",
       "      <td>12348.0</td>\n",
       "      <td>1797.24</td>\n",
       "      <td>31</td>\n",
       "      <td>74</td>\n",
       "    </tr>\n",
       "    <tr>\n",
       "      <th>3</th>\n",
       "      <td>12349.0</td>\n",
       "      <td>1757.55</td>\n",
       "      <td>73</td>\n",
       "      <td>18</td>\n",
       "    </tr>\n",
       "    <tr>\n",
       "      <th>4</th>\n",
       "      <td>12350.0</td>\n",
       "      <td>334.40</td>\n",
       "      <td>17</td>\n",
       "      <td>309</td>\n",
       "    </tr>\n",
       "  </tbody>\n",
       "</table>\n",
       "</div>"
      ],
      "text/plain": [
       "   CustomerID  Monetary  Frequency  Recency\n",
       "0     12346.0  77183.60          1      325\n",
       "1     12347.0   4310.00        182        1\n",
       "2     12348.0   1797.24         31       74\n",
       "3     12349.0   1757.55         73       18\n",
       "4     12350.0    334.40         17      309"
      ]
     },
     "execution_count": 20,
     "metadata": {},
     "output_type": "execute_result"
    }
   ],
   "source": [
    "# Merge monetary and frequency table with recency table based on CustomerID and change column name\n",
    "rfm = pd.merge(rfm, recency, on='CustomerID', how='inner')\n",
    "rfm.columns=['CustomerID','Monetary','Frequency','Recency']\n",
    "rfm.head()"
   ]
  },
  {
   "cell_type": "code",
   "execution_count": 21,
   "id": "24df2849",
   "metadata": {
    "datalore": {
     "hide_input_from_viewers": false,
     "hide_output_from_viewers": false,
     "type": "CODE"
    },
    "execution": {
     "iopub.execute_input": "2022-11-21T06:39:03.300211Z",
     "iopub.status.busy": "2022-11-21T06:39:03.299819Z",
     "iopub.status.idle": "2022-11-21T06:39:03.308204Z",
     "shell.execute_reply": "2022-11-21T06:39:03.307297Z"
    },
    "papermill": {
     "duration": 0.02866,
     "end_time": "2022-11-21T06:39:03.310412",
     "exception": false,
     "start_time": "2022-11-21T06:39:03.281752",
     "status": "completed"
    },
    "tags": []
   },
   "outputs": [],
   "source": [
    "# CustomerID is stored as string\n",
    "rfm['CustomerID']=rfm['CustomerID'].astype(str)"
   ]
  },
  {
   "cell_type": "markdown",
   "id": "9578ee99",
   "metadata": {
    "papermill": {
     "duration": 0.016502,
     "end_time": "2022-11-21T06:39:03.343903",
     "exception": false,
     "start_time": "2022-11-21T06:39:03.327401",
     "status": "completed"
    },
    "tags": []
   },
   "source": [
    "Now, we have an RFM table. For the next step, we need to remove the outliers. We will use the **z-score** method for the same."
   ]
  },
  {
   "cell_type": "code",
   "execution_count": 22,
   "id": "96fd39d2",
   "metadata": {
    "datalore": {
     "hide_input_from_viewers": false,
     "hide_output_from_viewers": false,
     "type": "CODE"
    },
    "execution": {
     "iopub.execute_input": "2022-11-21T06:39:03.380699Z",
     "iopub.status.busy": "2022-11-21T06:39:03.379498Z",
     "iopub.status.idle": "2022-11-21T06:39:03.402833Z",
     "shell.execute_reply": "2022-11-21T06:39:03.401718Z"
    },
    "papermill": {
     "duration": 0.043996,
     "end_time": "2022-11-21T06:39:03.405292",
     "exception": false,
     "start_time": "2022-11-21T06:39:03.361296",
     "status": "completed"
    },
    "tags": []
   },
   "outputs": [
    {
     "data": {
      "text/html": [
       "<div>\n",
       "<style scoped>\n",
       "    .dataframe tbody tr th:only-of-type {\n",
       "        vertical-align: middle;\n",
       "    }\n",
       "\n",
       "    .dataframe tbody tr th {\n",
       "        vertical-align: top;\n",
       "    }\n",
       "\n",
       "    .dataframe thead th {\n",
       "        text-align: right;\n",
       "    }\n",
       "</style>\n",
       "<table border=\"1\" class=\"dataframe\">\n",
       "  <thead>\n",
       "    <tr style=\"text-align: right;\">\n",
       "      <th></th>\n",
       "      <th>Monetary</th>\n",
       "      <th>Frequency</th>\n",
       "      <th>Recency</th>\n",
       "    </tr>\n",
       "  </thead>\n",
       "  <tbody>\n",
       "    <tr>\n",
       "      <th>count</th>\n",
       "      <td>4338.000000</td>\n",
       "      <td>4338.000000</td>\n",
       "      <td>4338.000000</td>\n",
       "    </tr>\n",
       "    <tr>\n",
       "      <th>mean</th>\n",
       "      <td>2048.688081</td>\n",
       "      <td>90.523744</td>\n",
       "      <td>91.536422</td>\n",
       "    </tr>\n",
       "    <tr>\n",
       "      <th>std</th>\n",
       "      <td>8985.230220</td>\n",
       "      <td>225.506968</td>\n",
       "      <td>100.014169</td>\n",
       "    </tr>\n",
       "    <tr>\n",
       "      <th>min</th>\n",
       "      <td>3.750000</td>\n",
       "      <td>1.000000</td>\n",
       "      <td>0.000000</td>\n",
       "    </tr>\n",
       "    <tr>\n",
       "      <th>25%</th>\n",
       "      <td>306.482500</td>\n",
       "      <td>17.000000</td>\n",
       "      <td>17.000000</td>\n",
       "    </tr>\n",
       "    <tr>\n",
       "      <th>50%</th>\n",
       "      <td>668.570000</td>\n",
       "      <td>41.000000</td>\n",
       "      <td>50.000000</td>\n",
       "    </tr>\n",
       "    <tr>\n",
       "      <th>75%</th>\n",
       "      <td>1660.597500</td>\n",
       "      <td>98.000000</td>\n",
       "      <td>141.000000</td>\n",
       "    </tr>\n",
       "    <tr>\n",
       "      <th>max</th>\n",
       "      <td>280206.020000</td>\n",
       "      <td>7676.000000</td>\n",
       "      <td>373.000000</td>\n",
       "    </tr>\n",
       "  </tbody>\n",
       "</table>\n",
       "</div>"
      ],
      "text/plain": [
       "            Monetary    Frequency      Recency\n",
       "count    4338.000000  4338.000000  4338.000000\n",
       "mean     2048.688081    90.523744    91.536422\n",
       "std      8985.230220   225.506968   100.014169\n",
       "min         3.750000     1.000000     0.000000\n",
       "25%       306.482500    17.000000    17.000000\n",
       "50%       668.570000    41.000000    50.000000\n",
       "75%      1660.597500    98.000000   141.000000\n",
       "max    280206.020000  7676.000000   373.000000"
      ]
     },
     "execution_count": 22,
     "metadata": {},
     "output_type": "execute_result"
    }
   ],
   "source": [
    "# Statistical description of dataframe\n",
    "rfm.describe()"
   ]
  },
  {
   "cell_type": "markdown",
   "id": "8df1a65b",
   "metadata": {
    "papermill": {
     "duration": 0.017648,
     "end_time": "2022-11-21T06:39:03.440299",
     "exception": false,
     "start_time": "2022-11-21T06:39:03.422651",
     "status": "completed"
    },
    "tags": []
   },
   "source": [
    "The mean is taken as 0 and standard deviation as 1. We will fit only the values that lie within 3 standard deviations from the mean and remove the rest. This process is repeated for all 3 columns."
   ]
  },
  {
   "cell_type": "code",
   "execution_count": 23,
   "id": "232a9548",
   "metadata": {
    "datalore": {
     "hide_input_from_viewers": false,
     "hide_output_from_viewers": false,
     "type": "CODE"
    },
    "execution": {
     "iopub.execute_input": "2022-11-21T06:39:03.477234Z",
     "iopub.status.busy": "2022-11-21T06:39:03.476805Z",
     "iopub.status.idle": "2022-11-21T06:39:03.486304Z",
     "shell.execute_reply": "2022-11-21T06:39:03.485341Z"
    },
    "papermill": {
     "duration": 0.030755,
     "end_time": "2022-11-21T06:39:03.488868",
     "exception": false,
     "start_time": "2022-11-21T06:39:03.458113",
     "status": "completed"
    },
    "tags": []
   },
   "outputs": [
    {
     "data": {
      "text/plain": [
       "(29004.378740707227, -24907.00257934254, 2048.688080682342, 8985.230220008294)"
      ]
     },
     "execution_count": 23,
     "metadata": {},
     "output_type": "execute_result"
    }
   ],
   "source": [
    "# Set upper limit and lower limit at 3 standard deviations from the mean\n",
    "m_mean=rfm['Monetary'].mean()\n",
    "m_sd=rfm['Monetary'].std()\n",
    "upperl_m=m_mean+3*m_sd\n",
    "lowerl_m=m_mean-3*m_sd\n",
    "upperl_m,lowerl_m,m_mean,m_sd"
   ]
  },
  {
   "cell_type": "code",
   "execution_count": 24,
   "id": "094228dd",
   "metadata": {
    "datalore": {
     "hide_input_from_viewers": false,
     "hide_output_from_viewers": false,
     "type": "CODE"
    },
    "execution": {
     "iopub.execute_input": "2022-11-21T06:39:03.526269Z",
     "iopub.status.busy": "2022-11-21T06:39:03.525373Z",
     "iopub.status.idle": "2022-11-21T06:39:03.548131Z",
     "shell.execute_reply": "2022-11-21T06:39:03.547308Z"
    },
    "papermill": {
     "duration": 0.043322,
     "end_time": "2022-11-21T06:39:03.550143",
     "exception": false,
     "start_time": "2022-11-21T06:39:03.506821",
     "status": "completed"
    },
    "tags": []
   },
   "outputs": [
    {
     "data": {
      "text/html": [
       "<div>\n",
       "<style scoped>\n",
       "    .dataframe tbody tr th:only-of-type {\n",
       "        vertical-align: middle;\n",
       "    }\n",
       "\n",
       "    .dataframe tbody tr th {\n",
       "        vertical-align: top;\n",
       "    }\n",
       "\n",
       "    .dataframe thead th {\n",
       "        text-align: right;\n",
       "    }\n",
       "</style>\n",
       "<table border=\"1\" class=\"dataframe\">\n",
       "  <thead>\n",
       "    <tr style=\"text-align: right;\">\n",
       "      <th></th>\n",
       "      <th>Monetary</th>\n",
       "      <th>Frequency</th>\n",
       "      <th>Recency</th>\n",
       "    </tr>\n",
       "  </thead>\n",
       "  <tbody>\n",
       "    <tr>\n",
       "      <th>count</th>\n",
       "      <td>4307.000000</td>\n",
       "      <td>4307.000000</td>\n",
       "      <td>4307.000000</td>\n",
       "    </tr>\n",
       "    <tr>\n",
       "      <th>mean</th>\n",
       "      <td>1475.632276</td>\n",
       "      <td>82.256559</td>\n",
       "      <td>91.983980</td>\n",
       "    </tr>\n",
       "    <tr>\n",
       "      <th>std</th>\n",
       "      <td>2460.285421</td>\n",
       "      <td>126.911127</td>\n",
       "      <td>100.037157</td>\n",
       "    </tr>\n",
       "    <tr>\n",
       "      <th>min</th>\n",
       "      <td>3.750000</td>\n",
       "      <td>1.000000</td>\n",
       "      <td>0.000000</td>\n",
       "    </tr>\n",
       "    <tr>\n",
       "      <th>25%</th>\n",
       "      <td>305.280000</td>\n",
       "      <td>17.000000</td>\n",
       "      <td>17.000000</td>\n",
       "    </tr>\n",
       "    <tr>\n",
       "      <th>50%</th>\n",
       "      <td>660.000000</td>\n",
       "      <td>40.000000</td>\n",
       "      <td>50.000000</td>\n",
       "    </tr>\n",
       "    <tr>\n",
       "      <th>75%</th>\n",
       "      <td>1622.965000</td>\n",
       "      <td>97.000000</td>\n",
       "      <td>142.000000</td>\n",
       "    </tr>\n",
       "    <tr>\n",
       "      <th>max</th>\n",
       "      <td>28882.440000</td>\n",
       "      <td>2677.000000</td>\n",
       "      <td>373.000000</td>\n",
       "    </tr>\n",
       "  </tbody>\n",
       "</table>\n",
       "</div>"
      ],
      "text/plain": [
       "           Monetary    Frequency      Recency\n",
       "count   4307.000000  4307.000000  4307.000000\n",
       "mean    1475.632276    82.256559    91.983980\n",
       "std     2460.285421   126.911127   100.037157\n",
       "min        3.750000     1.000000     0.000000\n",
       "25%      305.280000    17.000000    17.000000\n",
       "50%      660.000000    40.000000    50.000000\n",
       "75%     1622.965000    97.000000   142.000000\n",
       "max    28882.440000  2677.000000   373.000000"
      ]
     },
     "execution_count": 24,
     "metadata": {},
     "output_type": "execute_result"
    }
   ],
   "source": [
    "# Remove outliers\n",
    "rfm=rfm[(rfm['Monetary']>lowerl_m) & (rfm['Monetary']<upperl_m)] \n",
    "rfm.describe()"
   ]
  },
  {
   "cell_type": "code",
   "execution_count": 25,
   "id": "235fa319",
   "metadata": {
    "datalore": {
     "hide_input_from_viewers": false,
     "hide_output_from_viewers": false,
     "type": "CODE"
    },
    "execution": {
     "iopub.execute_input": "2022-11-21T06:39:03.588562Z",
     "iopub.status.busy": "2022-11-21T06:39:03.587636Z",
     "iopub.status.idle": "2022-11-21T06:39:03.598052Z",
     "shell.execute_reply": "2022-11-21T06:39:03.596789Z"
    },
    "papermill": {
     "duration": 0.032723,
     "end_time": "2022-11-21T06:39:03.600646",
     "exception": false,
     "start_time": "2022-11-21T06:39:03.567923",
     "status": "completed"
    },
    "tags": []
   },
   "outputs": [
    {
     "data": {
      "text/plain": [
       "(462.9899401576615, -298.47682197795405, 82.25655908985372, 126.9111270226026)"
      ]
     },
     "execution_count": 25,
     "metadata": {},
     "output_type": "execute_result"
    }
   ],
   "source": [
    "# Repeat for frequency\n",
    "f_mean=rfm['Frequency'].mean()\n",
    "f_sd=rfm['Frequency'].std()\n",
    "upperl_f=f_mean+3*f_sd\n",
    "lowerl_f=f_mean-3*f_sd\n",
    "upperl_f,lowerl_f,f_mean,f_sd"
   ]
  },
  {
   "cell_type": "code",
   "execution_count": 26,
   "id": "c9d38efc",
   "metadata": {
    "datalore": {
     "hide_input_from_viewers": false,
     "hide_output_from_viewers": false,
     "type": "CODE"
    },
    "execution": {
     "iopub.execute_input": "2022-11-21T06:39:03.637579Z",
     "iopub.status.busy": "2022-11-21T06:39:03.637152Z",
     "iopub.status.idle": "2022-11-21T06:39:03.661666Z",
     "shell.execute_reply": "2022-11-21T06:39:03.660513Z"
    },
    "papermill": {
     "duration": 0.045965,
     "end_time": "2022-11-21T06:39:03.664010",
     "exception": false,
     "start_time": "2022-11-21T06:39:03.618045",
     "status": "completed"
    },
    "tags": []
   },
   "outputs": [
    {
     "data": {
      "text/html": [
       "<div>\n",
       "<style scoped>\n",
       "    .dataframe tbody tr th:only-of-type {\n",
       "        vertical-align: middle;\n",
       "    }\n",
       "\n",
       "    .dataframe tbody tr th {\n",
       "        vertical-align: top;\n",
       "    }\n",
       "\n",
       "    .dataframe thead th {\n",
       "        text-align: right;\n",
       "    }\n",
       "</style>\n",
       "<table border=\"1\" class=\"dataframe\">\n",
       "  <thead>\n",
       "    <tr style=\"text-align: right;\">\n",
       "      <th></th>\n",
       "      <th>Monetary</th>\n",
       "      <th>Frequency</th>\n",
       "      <th>Recency</th>\n",
       "    </tr>\n",
       "  </thead>\n",
       "  <tbody>\n",
       "    <tr>\n",
       "      <th>count</th>\n",
       "      <td>4226.000000</td>\n",
       "      <td>4226.000000</td>\n",
       "      <td>4226.000000</td>\n",
       "    </tr>\n",
       "    <tr>\n",
       "      <th>mean</th>\n",
       "      <td>1354.746745</td>\n",
       "      <td>70.260530</td>\n",
       "      <td>93.543540</td>\n",
       "    </tr>\n",
       "    <tr>\n",
       "      <th>std</th>\n",
       "      <td>2170.353840</td>\n",
       "      <td>81.853927</td>\n",
       "      <td>100.316867</td>\n",
       "    </tr>\n",
       "    <tr>\n",
       "      <th>min</th>\n",
       "      <td>3.750000</td>\n",
       "      <td>1.000000</td>\n",
       "      <td>0.000000</td>\n",
       "    </tr>\n",
       "    <tr>\n",
       "      <th>25%</th>\n",
       "      <td>301.925000</td>\n",
       "      <td>17.000000</td>\n",
       "      <td>18.000000</td>\n",
       "    </tr>\n",
       "    <tr>\n",
       "      <th>50%</th>\n",
       "      <td>645.300000</td>\n",
       "      <td>39.000000</td>\n",
       "      <td>51.500000</td>\n",
       "    </tr>\n",
       "    <tr>\n",
       "      <th>75%</th>\n",
       "      <td>1535.212500</td>\n",
       "      <td>92.000000</td>\n",
       "      <td>146.000000</td>\n",
       "    </tr>\n",
       "    <tr>\n",
       "      <th>max</th>\n",
       "      <td>28754.110000</td>\n",
       "      <td>462.000000</td>\n",
       "      <td>373.000000</td>\n",
       "    </tr>\n",
       "  </tbody>\n",
       "</table>\n",
       "</div>"
      ],
      "text/plain": [
       "           Monetary    Frequency      Recency\n",
       "count   4226.000000  4226.000000  4226.000000\n",
       "mean    1354.746745    70.260530    93.543540\n",
       "std     2170.353840    81.853927   100.316867\n",
       "min        3.750000     1.000000     0.000000\n",
       "25%      301.925000    17.000000    18.000000\n",
       "50%      645.300000    39.000000    51.500000\n",
       "75%     1535.212500    92.000000   146.000000\n",
       "max    28754.110000   462.000000   373.000000"
      ]
     },
     "execution_count": 26,
     "metadata": {},
     "output_type": "execute_result"
    }
   ],
   "source": [
    "rfm=rfm[(rfm['Frequency']>lowerl_f) & (rfm['Frequency']<upperl_f)] \n",
    "rfm.describe()"
   ]
  },
  {
   "cell_type": "code",
   "execution_count": 27,
   "id": "9a77be0e",
   "metadata": {
    "datalore": {
     "hide_input_from_viewers": false,
     "hide_output_from_viewers": false,
     "type": "CODE"
    },
    "execution": {
     "iopub.execute_input": "2022-11-21T06:39:03.702501Z",
     "iopub.status.busy": "2022-11-21T06:39:03.701815Z",
     "iopub.status.idle": "2022-11-21T06:39:03.711478Z",
     "shell.execute_reply": "2022-11-21T06:39:03.710484Z"
    },
    "papermill": {
     "duration": 0.031559,
     "end_time": "2022-11-21T06:39:03.713816",
     "exception": false,
     "start_time": "2022-11-21T06:39:03.682257",
     "status": "completed"
    },
    "tags": []
   },
   "outputs": [
    {
     "data": {
      "text/plain": [
       "(394.4941398007042, -207.40705981963464, 93.54353999053478, 100.31686660338981)"
      ]
     },
     "execution_count": 27,
     "metadata": {},
     "output_type": "execute_result"
    }
   ],
   "source": [
    "# Repeat for Recency\n",
    "r_mean=rfm['Recency'].mean()\n",
    "r_sd=rfm['Recency'].std()\n",
    "upperl_r=r_mean+3*r_sd\n",
    "lowerl_r=r_mean-3*r_sd\n",
    "upperl_r,lowerl_r,r_mean,r_sd"
   ]
  },
  {
   "cell_type": "code",
   "execution_count": 28,
   "id": "06d01359",
   "metadata": {
    "datalore": {
     "hide_input_from_viewers": false,
     "hide_output_from_viewers": false,
     "type": "CODE"
    },
    "execution": {
     "iopub.execute_input": "2022-11-21T06:39:03.752588Z",
     "iopub.status.busy": "2022-11-21T06:39:03.751515Z",
     "iopub.status.idle": "2022-11-21T06:39:03.773582Z",
     "shell.execute_reply": "2022-11-21T06:39:03.772043Z"
    },
    "papermill": {
     "duration": 0.044639,
     "end_time": "2022-11-21T06:39:03.776800",
     "exception": false,
     "start_time": "2022-11-21T06:39:03.732161",
     "status": "completed"
    },
    "tags": []
   },
   "outputs": [
    {
     "name": "stdout",
     "output_type": "stream",
     "text": [
      "<class 'pandas.core.frame.DataFrame'>\n",
      "Int64Index: 4226 entries, 1 to 4337\n",
      "Data columns (total 4 columns):\n",
      " #   Column      Non-Null Count  Dtype  \n",
      "---  ------      --------------  -----  \n",
      " 0   CustomerID  4226 non-null   object \n",
      " 1   Monetary    4226 non-null   float64\n",
      " 2   Frequency   4226 non-null   int64  \n",
      " 3   Recency     4226 non-null   int64  \n",
      "dtypes: float64(1), int64(2), object(1)\n",
      "memory usage: 165.1+ KB\n"
     ]
    },
    {
     "data": {
      "text/html": [
       "<div>\n",
       "<style scoped>\n",
       "    .dataframe tbody tr th:only-of-type {\n",
       "        vertical-align: middle;\n",
       "    }\n",
       "\n",
       "    .dataframe tbody tr th {\n",
       "        vertical-align: top;\n",
       "    }\n",
       "\n",
       "    .dataframe thead th {\n",
       "        text-align: right;\n",
       "    }\n",
       "</style>\n",
       "<table border=\"1\" class=\"dataframe\">\n",
       "  <thead>\n",
       "    <tr style=\"text-align: right;\">\n",
       "      <th></th>\n",
       "      <th>CustomerID</th>\n",
       "      <th>Monetary</th>\n",
       "      <th>Frequency</th>\n",
       "      <th>Recency</th>\n",
       "    </tr>\n",
       "  </thead>\n",
       "  <tbody>\n",
       "    <tr>\n",
       "      <th>1</th>\n",
       "      <td>12347.0</td>\n",
       "      <td>4310.00</td>\n",
       "      <td>182</td>\n",
       "      <td>1</td>\n",
       "    </tr>\n",
       "    <tr>\n",
       "      <th>2</th>\n",
       "      <td>12348.0</td>\n",
       "      <td>1797.24</td>\n",
       "      <td>31</td>\n",
       "      <td>74</td>\n",
       "    </tr>\n",
       "    <tr>\n",
       "      <th>3</th>\n",
       "      <td>12349.0</td>\n",
       "      <td>1757.55</td>\n",
       "      <td>73</td>\n",
       "      <td>18</td>\n",
       "    </tr>\n",
       "    <tr>\n",
       "      <th>4</th>\n",
       "      <td>12350.0</td>\n",
       "      <td>334.40</td>\n",
       "      <td>17</td>\n",
       "      <td>309</td>\n",
       "    </tr>\n",
       "    <tr>\n",
       "      <th>5</th>\n",
       "      <td>12352.0</td>\n",
       "      <td>2506.04</td>\n",
       "      <td>85</td>\n",
       "      <td>35</td>\n",
       "    </tr>\n",
       "  </tbody>\n",
       "</table>\n",
       "</div>"
      ],
      "text/plain": [
       "  CustomerID  Monetary  Frequency  Recency\n",
       "1    12347.0   4310.00        182        1\n",
       "2    12348.0   1797.24         31       74\n",
       "3    12349.0   1757.55         73       18\n",
       "4    12350.0    334.40         17      309\n",
       "5    12352.0   2506.04         85       35"
      ]
     },
     "execution_count": 28,
     "metadata": {},
     "output_type": "execute_result"
    }
   ],
   "source": [
    "rfm.info()\n",
    "rfm.head()"
   ]
  },
  {
   "cell_type": "markdown",
   "id": "03c7c24b",
   "metadata": {
    "papermill": {
     "duration": 0.017695,
     "end_time": "2022-11-21T06:39:03.812788",
     "exception": false,
     "start_time": "2022-11-21T06:39:03.795093",
     "status": "completed"
    },
    "tags": []
   },
   "source": [
    "## K-Means Clustering\n",
    "\n",
    "K-Means algorithm assumes symmertical distribution and normalized variables.\n",
    "\n",
    "- In case the variables are not symmetrically distributed, since all values are positive, we can apply log transformation.\n",
    "- If the mean and variables are not equal, the variables could be normalized using Min-Max normalization. "
   ]
  },
  {
   "cell_type": "code",
   "execution_count": 29,
   "id": "f852d42a",
   "metadata": {
    "execution": {
     "iopub.execute_input": "2022-11-21T06:39:03.851015Z",
     "iopub.status.busy": "2022-11-21T06:39:03.850602Z",
     "iopub.status.idle": "2022-11-21T06:39:03.858140Z",
     "shell.execute_reply": "2022-11-21T06:39:03.856767Z"
    },
    "papermill": {
     "duration": 0.029866,
     "end_time": "2022-11-21T06:39:03.860752",
     "exception": false,
     "start_time": "2022-11-21T06:39:03.830886",
     "status": "completed"
    },
    "tags": []
   },
   "outputs": [],
   "source": [
    "# measure skewness\n",
    "def skewness_measure(df, column):\n",
    "    skew = stats.skew(df[column])\n",
    "    skewtest = stats.skewtest(df[column])\n",
    "    plt.title('Distribution of ' + column)\n",
    "    sns.distplot(df[column])\n",
    "    print(\"{}'s: Skew: {}, : {}\".format(column, skew, skewtest))\n",
    "    return "
   ]
  },
  {
   "cell_type": "code",
   "execution_count": 30,
   "id": "2ccd8aed",
   "metadata": {
    "execution": {
     "iopub.execute_input": "2022-11-21T06:39:03.898970Z",
     "iopub.status.busy": "2022-11-21T06:39:03.898567Z",
     "iopub.status.idle": "2022-11-21T06:39:06.476134Z",
     "shell.execute_reply": "2022-11-21T06:39:06.474681Z"
    },
    "papermill": {
     "duration": 2.599909,
     "end_time": "2022-11-21T06:39:06.478750",
     "exception": false,
     "start_time": "2022-11-21T06:39:03.878841",
     "status": "completed"
    },
    "tags": []
   },
   "outputs": [
    {
     "data": {
      "application/vnd.jupyter.widget-view+json": {
       "model_id": "9a1ec2d909f84f7f93f92ade7ec32a95",
       "version_major": 2,
       "version_minor": 0
      },
      "text/plain": [
       "Canvas(toolbar=Toolbar(toolitems=[('Home', 'Reset original view', 'home', 'home'), ('Back', 'Back to previous …"
      ]
     },
     "metadata": {},
     "output_type": "display_data"
    },
    {
     "name": "stdout",
     "output_type": "stream",
     "text": [
      "Recency's: Skew: 1.2184101003161467, : SkewtestResult(statistic=25.86249477653755, pvalue=1.7605318106127792e-147)\n",
      "Frequency's: Skew: 2.105489814913073, : SkewtestResult(statistic=36.42611374951442, pvalue=1.6437266277039128e-290)\n",
      "Monetary's: Skew: 5.023527814905374, : SkewtestResult(statistic=54.716375252126134, pvalue=0.0)\n"
     ]
    }
   ],
   "source": [
    "# Plot skewness of all variables\n",
    "plt.figure(figsize=(9, 9))\n",
    "\n",
    "plt.subplot(3, 1, 1)\n",
    "skewness_measure(rfm,'Recency')\n",
    "\n",
    "plt.subplot(3, 1, 2)\n",
    "skewness_measure(rfm,'Frequency')\n",
    "\n",
    "plt.subplot(3, 1, 3)\n",
    "skewness_measure(rfm,'Monetary')\n",
    "\n",
    "plt.tight_layout()\n",
    "plt.savefig('before_transform.png', format='png', dpi=500)"
   ]
  },
  {
   "cell_type": "code",
   "execution_count": 31,
   "id": "a9be06e5",
   "metadata": {
    "execution": {
     "iopub.execute_input": "2022-11-21T06:39:06.518115Z",
     "iopub.status.busy": "2022-11-21T06:39:06.517277Z",
     "iopub.status.idle": "2022-11-21T06:39:06.526494Z",
     "shell.execute_reply": "2022-11-21T06:39:06.524895Z"
    },
    "papermill": {
     "duration": 0.03205,
     "end_time": "2022-11-21T06:39:06.529172",
     "exception": false,
     "start_time": "2022-11-21T06:39:06.497122",
     "status": "completed"
    },
    "tags": []
   },
   "outputs": [],
   "source": [
    "#log transformation\n",
    "rfm_rlog = np.log(rfm['Recency']+0.1) #can't take log(0) and so add a small number\n",
    "rfm_flog = np.log(rfm['Frequency'])\n",
    "rfm_mlog = np.log(rfm['Monetary']+0.1)"
   ]
  },
  {
   "cell_type": "markdown",
   "id": "d0742bd9",
   "metadata": {
    "papermill": {
     "duration": 0.018913,
     "end_time": "2022-11-21T06:39:06.566686",
     "exception": false,
     "start_time": "2022-11-21T06:39:06.547773",
     "status": "completed"
    },
    "tags": []
   },
   "source": [
    "Now let's plot the skewness after log transform."
   ]
  },
  {
   "cell_type": "code",
   "execution_count": 32,
   "id": "858fe185",
   "metadata": {
    "execution": {
     "iopub.execute_input": "2022-11-21T06:39:06.606496Z",
     "iopub.status.busy": "2022-11-21T06:39:06.606023Z",
     "iopub.status.idle": "2022-11-21T06:39:09.405716Z",
     "shell.execute_reply": "2022-11-21T06:39:09.404417Z"
    },
    "papermill": {
     "duration": 2.822832,
     "end_time": "2022-11-21T06:39:09.408550",
     "exception": false,
     "start_time": "2022-11-21T06:39:06.585718",
     "status": "completed"
    },
    "tags": []
   },
   "outputs": [
    {
     "data": {
      "application/vnd.jupyter.widget-view+json": {
       "model_id": "e61fe866358b42dd97bb1e50281091d8",
       "version_major": 2,
       "version_minor": 0
      },
      "text/plain": [
       "Canvas(toolbar=Toolbar(toolitems=[('Home', 'Reset original view', 'home', 'home'), ('Back', 'Back to previous …"
      ]
     },
     "metadata": {},
     "output_type": "display_data"
    },
    {
     "name": "stdout",
     "output_type": "stream",
     "text": [
      "Recency's: Skew: -1.178299413169997, : SkewtestResult(statistic=-25.26093131966803, pvalue=8.589677414023132e-141)\n",
      "Frequency's: Skew: -0.4326796673140623, : SkewtestResult(statistic=-11.025655365592339, pvalue=2.87417277151095e-28)\n",
      "Monetary's: Skew: 0.08954366074015034, : SkewtestResult(statistic=2.375902476486782, pvalue=0.017506088984579074)\n"
     ]
    }
   ],
   "source": [
    "log_rfm = pd.DataFrame({'Monetary': rfm_mlog,'Recency': rfm_rlog,'Frequency': rfm_flog})\n",
    "\n",
    "# Plot skewness of all variables\n",
    "plt.figure(figsize=(9, 9))\n",
    "\n",
    "plt.subplot(3, 1, 1)\n",
    "skewness_measure(log_rfm,'Recency')\n",
    "\n",
    "plt.subplot(3, 1, 2)\n",
    "skewness_measure(log_rfm,'Frequency')\n",
    "\n",
    "plt.subplot(3, 1, 3)\n",
    "skewness_measure(log_rfm,'Monetary')\n",
    "\n",
    "plt.tight_layout()\n",
    "plt.savefig('after_transform.png', format='png', dpi=500)"
   ]
  },
  {
   "cell_type": "markdown",
   "id": "38bf30ff",
   "metadata": {
    "papermill": {
     "duration": 0.018171,
     "end_time": "2022-11-21T06:39:09.445317",
     "exception": false,
     "start_time": "2022-11-21T06:39:09.427146",
     "status": "completed"
    },
    "tags": []
   },
   "source": [
    "Now, to standardize the data, we will remove mean and scale to unit variance. "
   ]
  },
  {
   "cell_type": "code",
   "execution_count": 33,
   "id": "cb36d118",
   "metadata": {
    "datalore": {
     "hide_input_from_viewers": false,
     "hide_output_from_viewers": false,
     "type": "CODE"
    },
    "execution": {
     "iopub.execute_input": "2022-11-21T06:39:09.485029Z",
     "iopub.status.busy": "2022-11-21T06:39:09.484600Z",
     "iopub.status.idle": "2022-11-21T06:39:09.500254Z",
     "shell.execute_reply": "2022-11-21T06:39:09.498944Z"
    },
    "papermill": {
     "duration": 0.039695,
     "end_time": "2022-11-21T06:39:09.503460",
     "exception": false,
     "start_time": "2022-11-21T06:39:09.463765",
     "status": "completed"
    },
    "tags": []
   },
   "outputs": [
    {
     "data": {
      "text/plain": [
       "(4226, 3)"
      ]
     },
     "execution_count": 33,
     "metadata": {},
     "output_type": "execute_result"
    }
   ],
   "source": [
    "# Rescaling the attributes\n",
    "rfm_reshaped = log_rfm[['Monetary', 'Frequency', 'Recency']]\n",
    "\n",
    "# Instantiate\n",
    "scaler = StandardScaler()\n",
    "\n",
    "# fit_transform\n",
    "rfm_df_scaled = scaler.fit_transform(rfm_reshaped)\n",
    "rfm_df_scaled.shape"
   ]
  },
  {
   "cell_type": "code",
   "execution_count": 34,
   "id": "b155552d",
   "metadata": {
    "datalore": {
     "hide_input_from_viewers": false,
     "hide_output_from_viewers": false,
     "type": "CODE"
    },
    "execution": {
     "iopub.execute_input": "2022-11-21T06:39:09.545108Z",
     "iopub.status.busy": "2022-11-21T06:39:09.544677Z",
     "iopub.status.idle": "2022-11-21T06:39:09.557342Z",
     "shell.execute_reply": "2022-11-21T06:39:09.556494Z"
    },
    "papermill": {
     "duration": 0.036668,
     "end_time": "2022-11-21T06:39:09.560255",
     "exception": false,
     "start_time": "2022-11-21T06:39:09.523587",
     "status": "completed"
    },
    "tags": []
   },
   "outputs": [
    {
     "data": {
      "text/html": [
       "<div>\n",
       "<style scoped>\n",
       "    .dataframe tbody tr th:only-of-type {\n",
       "        vertical-align: middle;\n",
       "    }\n",
       "\n",
       "    .dataframe tbody tr th {\n",
       "        vertical-align: top;\n",
       "    }\n",
       "\n",
       "    .dataframe thead th {\n",
       "        text-align: right;\n",
       "    }\n",
       "</style>\n",
       "<table border=\"1\" class=\"dataframe\">\n",
       "  <thead>\n",
       "    <tr style=\"text-align: right;\">\n",
       "      <th></th>\n",
       "      <th>Monetary</th>\n",
       "      <th>Frequency</th>\n",
       "      <th>Recency</th>\n",
       "    </tr>\n",
       "  </thead>\n",
       "  <tbody>\n",
       "    <tr>\n",
       "      <th>0</th>\n",
       "      <td>1.580709</td>\n",
       "      <td>1.280348</td>\n",
       "      <td>-2.266006</td>\n",
       "    </tr>\n",
       "    <tr>\n",
       "      <th>1</th>\n",
       "      <td>0.836064</td>\n",
       "      <td>-0.134546</td>\n",
       "      <td>0.361425</td>\n",
       "    </tr>\n",
       "    <tr>\n",
       "      <th>2</th>\n",
       "      <td>0.817053</td>\n",
       "      <td>0.550089</td>\n",
       "      <td>-0.518214</td>\n",
       "    </tr>\n",
       "    <tr>\n",
       "      <th>3</th>\n",
       "      <td>-0.595437</td>\n",
       "      <td>-0.614784</td>\n",
       "      <td>1.252763</td>\n",
       "    </tr>\n",
       "    <tr>\n",
       "      <th>4</th>\n",
       "      <td>1.119086</td>\n",
       "      <td>0.671746</td>\n",
       "      <td>-0.104894</td>\n",
       "    </tr>\n",
       "  </tbody>\n",
       "</table>\n",
       "</div>"
      ],
      "text/plain": [
       "   Monetary  Frequency   Recency\n",
       "0  1.580709   1.280348 -2.266006\n",
       "1  0.836064  -0.134546  0.361425\n",
       "2  0.817053   0.550089 -0.518214\n",
       "3 -0.595437  -0.614784  1.252763\n",
       "4  1.119086   0.671746 -0.104894"
      ]
     },
     "execution_count": 34,
     "metadata": {},
     "output_type": "execute_result"
    }
   ],
   "source": [
    "# Make dataframe and name colums\n",
    "rfm_scaled = pd.DataFrame(rfm_df_scaled)\n",
    "rfm_scaled.columns = ['Monetary', 'Frequency', 'Recency']\n",
    "rfm_scaled.head()"
   ]
  },
  {
   "cell_type": "markdown",
   "id": "d3b2c47b",
   "metadata": {
    "papermill": {
     "duration": 0.019876,
     "end_time": "2022-11-21T06:39:09.599085",
     "exception": false,
     "start_time": "2022-11-21T06:39:09.579209",
     "status": "completed"
    },
    "tags": []
   },
   "source": [
    "To find optimum clusters, we will plot the elbow curve and pick the k at the elbow. "
   ]
  },
  {
   "cell_type": "code",
   "execution_count": 35,
   "id": "31c49090",
   "metadata": {
    "datalore": {
     "hide_input_from_viewers": false,
     "hide_output_from_viewers": false,
     "type": "CODE"
    },
    "execution": {
     "iopub.execute_input": "2022-11-21T06:39:09.639997Z",
     "iopub.status.busy": "2022-11-21T06:39:09.639177Z",
     "iopub.status.idle": "2022-11-21T06:39:24.180276Z",
     "shell.execute_reply": "2022-11-21T06:39:24.178934Z"
    },
    "papermill": {
     "duration": 14.565145,
     "end_time": "2022-11-21T06:39:24.183010",
     "exception": false,
     "start_time": "2022-11-21T06:39:09.617865",
     "status": "completed"
    },
    "tags": []
   },
   "outputs": [],
   "source": [
    "# Calculate SSE to find optimum number of clusters\n",
    "sse = []\n",
    "k_rng = range(1,11)\n",
    "for k in k_rng:\n",
    "    km = KMeans(n_clusters=k,init='k-means++')\n",
    "    km.fit(rfm_scaled[['Monetary', 'Frequency', 'Recency']])\n",
    "    sse.append(km.inertia_)"
   ]
  },
  {
   "cell_type": "code",
   "execution_count": 36,
   "id": "15555925",
   "metadata": {
    "datalore": {
     "hide_input_from_viewers": false,
     "hide_output_from_viewers": false,
     "type": "CODE"
    },
    "execution": {
     "iopub.execute_input": "2022-11-21T06:39:24.225503Z",
     "iopub.status.busy": "2022-11-21T06:39:24.224400Z",
     "iopub.status.idle": "2022-11-21T06:39:24.277713Z",
     "shell.execute_reply": "2022-11-21T06:39:24.276362Z"
    },
    "papermill": {
     "duration": 0.080082,
     "end_time": "2022-11-21T06:39:24.283558",
     "exception": false,
     "start_time": "2022-11-21T06:39:24.203476",
     "status": "completed"
    },
    "tags": []
   },
   "outputs": [
    {
     "data": {
      "application/vnd.jupyter.widget-view+json": {
       "model_id": "5017cca5b01f4cd38b5bef96ea7f81f9",
       "version_major": 2,
       "version_minor": 0
      },
      "text/plain": [
       "Canvas(toolbar=Toolbar(toolitems=[('Home', 'Reset original view', 'home', 'home'), ('Back', 'Back to previous …"
      ]
     },
     "metadata": {},
     "output_type": "display_data"
    }
   ],
   "source": [
    "# Plot elbow plot to find k\n",
    "fig, ax = plt.subplots()\n",
    "plt.xlabel('K')\n",
    "plt.ylabel('Sum of squared error')\n",
    "plt.plot(k_rng,sse)\n",
    "plt.show()"
   ]
  },
  {
   "cell_type": "markdown",
   "id": "12165b50",
   "metadata": {
    "papermill": {
     "duration": 0.018634,
     "end_time": "2022-11-21T06:39:24.321456",
     "exception": false,
     "start_time": "2022-11-21T06:39:24.302822",
     "status": "completed"
    },
    "tags": []
   },
   "source": [
    "The elbow appears at 2 clusters. So, we will take k=2."
   ]
  },
  {
   "cell_type": "code",
   "execution_count": 37,
   "id": "82838a5a",
   "metadata": {
    "datalore": {
     "hide_input_from_viewers": false,
     "hide_output_from_viewers": false,
     "type": "CODE"
    },
    "execution": {
     "iopub.execute_input": "2022-11-21T06:39:24.361563Z",
     "iopub.status.busy": "2022-11-21T06:39:24.360408Z",
     "iopub.status.idle": "2022-11-21T06:39:25.575332Z",
     "shell.execute_reply": "2022-11-21T06:39:25.574010Z"
    },
    "papermill": {
     "duration": 1.237906,
     "end_time": "2022-11-21T06:39:25.577942",
     "exception": false,
     "start_time": "2022-11-21T06:39:24.340036",
     "status": "completed"
    },
    "tags": []
   },
   "outputs": [
    {
     "data": {
      "text/plain": [
       "array([1, 1, 1, ..., 0, 0, 1], dtype=int32)"
      ]
     },
     "execution_count": 37,
     "metadata": {},
     "output_type": "execute_result"
    }
   ],
   "source": [
    "# Perform K-Means clustering on normalized data\n",
    "km = KMeans(n_clusters=2)\n",
    "y_predicted = km.fit_predict(rfm_scaled[['Monetary', 'Frequency', 'Recency']])\n",
    "y_predicted"
   ]
  },
  {
   "cell_type": "code",
   "execution_count": 38,
   "id": "41adecc9",
   "metadata": {
    "datalore": {
     "hide_input_from_viewers": false,
     "hide_output_from_viewers": false,
     "type": "CODE"
    },
    "execution": {
     "iopub.execute_input": "2022-11-21T06:39:25.619058Z",
     "iopub.status.busy": "2022-11-21T06:39:25.618639Z",
     "iopub.status.idle": "2022-11-21T06:39:25.627665Z",
     "shell.execute_reply": "2022-11-21T06:39:25.626442Z"
    },
    "papermill": {
     "duration": 0.033839,
     "end_time": "2022-11-21T06:39:25.631872",
     "exception": false,
     "start_time": "2022-11-21T06:39:25.598033",
     "status": "completed"
    },
    "tags": []
   },
   "outputs": [
    {
     "data": {
      "text/plain": [
       "array([[-0.67667525, -0.67423998,  0.51338909],\n",
       "       [ 0.7966012 ,  0.79373434, -0.60437613]])"
      ]
     },
     "execution_count": 38,
     "metadata": {},
     "output_type": "execute_result"
    }
   ],
   "source": [
    "# Display cluster centers\n",
    "km.cluster_centers_"
   ]
  },
  {
   "cell_type": "code",
   "execution_count": 39,
   "id": "d1168903",
   "metadata": {
    "datalore": {
     "hide_input_from_viewers": false,
     "hide_output_from_viewers": false,
     "type": "CODE"
    },
    "execution": {
     "iopub.execute_input": "2022-11-21T06:39:25.672059Z",
     "iopub.status.busy": "2022-11-21T06:39:25.671670Z",
     "iopub.status.idle": "2022-11-21T06:39:25.687928Z",
     "shell.execute_reply": "2022-11-21T06:39:25.686502Z"
    },
    "papermill": {
     "duration": 0.04063,
     "end_time": "2022-11-21T06:39:25.691813",
     "exception": false,
     "start_time": "2022-11-21T06:39:25.651183",
     "status": "completed"
    },
    "tags": []
   },
   "outputs": [
    {
     "data": {
      "text/html": [
       "<div>\n",
       "<style scoped>\n",
       "    .dataframe tbody tr th:only-of-type {\n",
       "        vertical-align: middle;\n",
       "    }\n",
       "\n",
       "    .dataframe tbody tr th {\n",
       "        vertical-align: top;\n",
       "    }\n",
       "\n",
       "    .dataframe thead th {\n",
       "        text-align: right;\n",
       "    }\n",
       "</style>\n",
       "<table border=\"1\" class=\"dataframe\">\n",
       "  <thead>\n",
       "    <tr style=\"text-align: right;\">\n",
       "      <th></th>\n",
       "      <th>Monetary</th>\n",
       "      <th>Frequency</th>\n",
       "      <th>Recency</th>\n",
       "      <th>Cluster</th>\n",
       "    </tr>\n",
       "  </thead>\n",
       "  <tbody>\n",
       "    <tr>\n",
       "      <th>0</th>\n",
       "      <td>1.580709</td>\n",
       "      <td>1.280348</td>\n",
       "      <td>-2.266006</td>\n",
       "      <td>1</td>\n",
       "    </tr>\n",
       "    <tr>\n",
       "      <th>1</th>\n",
       "      <td>0.836064</td>\n",
       "      <td>-0.134546</td>\n",
       "      <td>0.361425</td>\n",
       "      <td>1</td>\n",
       "    </tr>\n",
       "    <tr>\n",
       "      <th>2</th>\n",
       "      <td>0.817053</td>\n",
       "      <td>0.550089</td>\n",
       "      <td>-0.518214</td>\n",
       "      <td>1</td>\n",
       "    </tr>\n",
       "    <tr>\n",
       "      <th>3</th>\n",
       "      <td>-0.595437</td>\n",
       "      <td>-0.614784</td>\n",
       "      <td>1.252763</td>\n",
       "      <td>0</td>\n",
       "    </tr>\n",
       "    <tr>\n",
       "      <th>4</th>\n",
       "      <td>1.119086</td>\n",
       "      <td>0.671746</td>\n",
       "      <td>-0.104894</td>\n",
       "      <td>1</td>\n",
       "    </tr>\n",
       "  </tbody>\n",
       "</table>\n",
       "</div>"
      ],
      "text/plain": [
       "   Monetary  Frequency   Recency  Cluster\n",
       "0  1.580709   1.280348 -2.266006        1\n",
       "1  0.836064  -0.134546  0.361425        1\n",
       "2  0.817053   0.550089 -0.518214        1\n",
       "3 -0.595437  -0.614784  1.252763        0\n",
       "4  1.119086   0.671746 -0.104894        1"
      ]
     },
     "execution_count": 39,
     "metadata": {},
     "output_type": "execute_result"
    }
   ],
   "source": [
    "# Add clusters to dataset\n",
    "rfm_scaled['Cluster']=y_predicted\n",
    "rfm_scaled.head()"
   ]
  },
  {
   "cell_type": "code",
   "execution_count": 40,
   "id": "cfd4f327",
   "metadata": {
    "execution": {
     "iopub.execute_input": "2022-11-21T06:39:25.733607Z",
     "iopub.status.busy": "2022-11-21T06:39:25.733170Z",
     "iopub.status.idle": "2022-11-21T06:39:25.744154Z",
     "shell.execute_reply": "2022-11-21T06:39:25.743022Z"
    },
    "papermill": {
     "duration": 0.03685,
     "end_time": "2022-11-21T06:39:25.748648",
     "exception": false,
     "start_time": "2022-11-21T06:39:25.711798",
     "status": "completed"
    },
    "tags": []
   },
   "outputs": [],
   "source": [
    "rfm1=rfm_scaled[rfm_scaled['Cluster']==0]\n",
    "rfm2=rfm_scaled[rfm_scaled['Cluster']==1]"
   ]
  },
  {
   "cell_type": "markdown",
   "id": "8434e72e",
   "metadata": {
    "papermill": {
     "duration": 0.018896,
     "end_time": "2022-11-21T06:39:25.787315",
     "exception": false,
     "start_time": "2022-11-21T06:39:25.768419",
     "status": "completed"
    },
    "tags": []
   },
   "source": [
    "Now, we can plot the clusters we obtained from K-Means clustering."
   ]
  },
  {
   "cell_type": "code",
   "execution_count": 41,
   "id": "6096b066",
   "metadata": {
    "datalore": {
     "hide_input_from_viewers": false,
     "hide_output_from_viewers": false,
     "type": "CODE"
    },
    "execution": {
     "iopub.execute_input": "2022-11-21T06:39:25.828384Z",
     "iopub.status.busy": "2022-11-21T06:39:25.827987Z",
     "iopub.status.idle": "2022-11-21T06:39:27.210246Z",
     "shell.execute_reply": "2022-11-21T06:39:27.208892Z"
    },
    "papermill": {
     "duration": 1.407895,
     "end_time": "2022-11-21T06:39:27.215101",
     "exception": false,
     "start_time": "2022-11-21T06:39:25.807206",
     "status": "completed"
    },
    "tags": []
   },
   "outputs": [
    {
     "data": {
      "application/vnd.jupyter.widget-view+json": {
       "model_id": "af9c8442a80e43f695a700707817216e",
       "version_major": 2,
       "version_minor": 0
      },
      "text/plain": [
       "Canvas(toolbar=Toolbar(toolitems=[('Home', 'Reset original view', 'home', 'home'), ('Back', 'Back to previous …"
      ]
     },
     "metadata": {},
     "output_type": "display_data"
    }
   ],
   "source": [
    "sns.set(style = \"darkgrid\")\n",
    "fig = plt.figure()\n",
    "ax = fig.add_subplot(111, projection='3d')\n",
    "ax.scatter3D(rfm1.Monetary, rfm1.Frequency, rfm1.Recency, c='#58508d', label = 'Cluster 1')\n",
    "ax.scatter3D(rfm2.Monetary, rfm2.Frequency, rfm2.Recency, c='#bc5090', label = 'Cluster 2')\n",
    "ax.set_xlabel(\"Monetary\",fontsize=12)\n",
    "ax.set_ylabel(\"Frequency\",fontsize=12)\n",
    "ax.set_zlabel(\"Recency\",fontsize=12)\n",
    "plt.title(\"RFM\",fontsize=18)\n",
    "plt.legend(bbox_to_anchor=(1.0,1.0),prop={'size': 12})\n",
    "plt.tight_layout()\n",
    "plt.savefig('clusters.png', format='png', dpi=500)"
   ]
  },
  {
   "cell_type": "markdown",
   "id": "d0b45f96",
   "metadata": {
    "papermill": {
     "duration": 0.019121,
     "end_time": "2022-11-21T06:39:27.253956",
     "exception": false,
     "start_time": "2022-11-21T06:39:27.234835",
     "status": "completed"
    },
    "tags": []
   },
   "source": [
    "## Conclusion\n",
    "\n",
    "For the purpose of the following analysis, it is safe to assume that there is no correlation between the products bought and the customer cluster. The influence of products and geographical factors can be studied in a different study.\n",
    "\n",
    "**Some reccomendations**:\n",
    "- The cancelled orders can all be dealt with uniformly. In this case, while some cancelled orders were represented by the letter 'C' in the invoice number, the others were represented by negative feilds for unit price or quantity.\n",
    "- Duplicates can be avoided.\n",
    "- Null entries are to be reevaluated. "
   ]
  },
  {
   "cell_type": "code",
   "execution_count": null,
   "id": "712668bb",
   "metadata": {
    "papermill": {
     "duration": 0.019033,
     "end_time": "2022-11-21T06:39:27.292688",
     "exception": false,
     "start_time": "2022-11-21T06:39:27.273655",
     "status": "completed"
    },
    "tags": []
   },
   "outputs": [],
   "source": []
  }
 ],
 "metadata": {
  "kernelspec": {
   "display_name": "Python 3",
   "language": "python",
   "name": "python3"
  },
  "language_info": {
   "codemirror_mode": {
    "name": "ipython",
    "version": 3
   },
   "file_extension": ".py",
   "mimetype": "text/x-python",
   "name": "python",
   "nbconvert_exporter": "python",
   "pygments_lexer": "ipython3",
   "version": "3.7.12"
  },
  "papermill": {
   "default_parameters": {},
   "duration": 120.645621,
   "end_time": "2022-11-21T06:39:28.437373",
   "environment_variables": {},
   "exception": null,
   "input_path": "__notebook__.ipynb",
   "output_path": "__notebook__.ipynb",
   "parameters": {},
   "start_time": "2022-11-21T06:37:27.791752",
   "version": "2.3.4"
  },
  "widgets": {
   "application/vnd.jupyter.widget-state+json": {
    "state": {
     "00eac7e76e2b44b79105ff93473c5b7b": {
      "model_module": "@jupyter-widgets/base",
      "model_module_version": "1.2.0",
      "model_name": "LayoutModel",
      "state": {
       "_model_module": "@jupyter-widgets/base",
       "_model_module_version": "1.2.0",
       "_model_name": "LayoutModel",
       "_view_count": null,
       "_view_module": "@jupyter-widgets/base",
       "_view_module_version": "1.2.0",
       "_view_name": "LayoutView",
       "align_content": null,
       "align_items": null,
       "align_self": null,
       "border": null,
       "bottom": null,
       "display": null,
       "flex": null,
       "flex_flow": null,
       "grid_area": null,
       "grid_auto_columns": null,
       "grid_auto_flow": null,
       "grid_auto_rows": null,
       "grid_column": null,
       "grid_gap": null,
       "grid_row": null,
       "grid_template_areas": null,
       "grid_template_columns": null,
       "grid_template_rows": null,
       "height": null,
       "justify_content": null,
       "justify_items": null,
       "left": null,
       "margin": null,
       "max_height": null,
       "max_width": null,
       "min_height": null,
       "min_width": null,
       "object_fit": null,
       "object_position": null,
       "order": null,
       "overflow": null,
       "overflow_x": null,
       "overflow_y": null,
       "padding": null,
       "right": null,
       "top": null,
       "visibility": null,
       "width": null
      }
     },
     "2c02b9017abf48cfa85e84a589061139": {
      "model_module": "@jupyter-widgets/base",
      "model_module_version": "1.2.0",
      "model_name": "LayoutModel",
      "state": {
       "_model_module": "@jupyter-widgets/base",
       "_model_module_version": "1.2.0",
       "_model_name": "LayoutModel",
       "_view_count": null,
       "_view_module": "@jupyter-widgets/base",
       "_view_module_version": "1.2.0",
       "_view_name": "LayoutView",
       "align_content": null,
       "align_items": null,
       "align_self": null,
       "border": null,
       "bottom": null,
       "display": null,
       "flex": null,
       "flex_flow": null,
       "grid_area": null,
       "grid_auto_columns": null,
       "grid_auto_flow": null,
       "grid_auto_rows": null,
       "grid_column": null,
       "grid_gap": null,
       "grid_row": null,
       "grid_template_areas": null,
       "grid_template_columns": null,
       "grid_template_rows": null,
       "height": null,
       "justify_content": null,
       "justify_items": null,
       "left": null,
       "margin": null,
       "max_height": null,
       "max_width": null,
       "min_height": null,
       "min_width": null,
       "object_fit": null,
       "object_position": null,
       "order": null,
       "overflow": null,
       "overflow_x": null,
       "overflow_y": null,
       "padding": null,
       "right": null,
       "top": null,
       "visibility": null,
       "width": null
      }
     },
     "32de3f7b2250426bb03e4862a699dc8c": {
      "model_module": "@jupyter-widgets/base",
      "model_module_version": "1.2.0",
      "model_name": "LayoutModel",
      "state": {
       "_model_module": "@jupyter-widgets/base",
       "_model_module_version": "1.2.0",
       "_model_name": "LayoutModel",
       "_view_count": null,
       "_view_module": "@jupyter-widgets/base",
       "_view_module_version": "1.2.0",
       "_view_name": "LayoutView",
       "align_content": null,
       "align_items": null,
       "align_self": null,
       "border": null,
       "bottom": null,
       "display": null,
       "flex": null,
       "flex_flow": null,
       "grid_area": null,
       "grid_auto_columns": null,
       "grid_auto_flow": null,
       "grid_auto_rows": null,
       "grid_column": null,
       "grid_gap": null,
       "grid_row": null,
       "grid_template_areas": null,
       "grid_template_columns": null,
       "grid_template_rows": null,
       "height": null,
       "justify_content": null,
       "justify_items": null,
       "left": null,
       "margin": null,
       "max_height": null,
       "max_width": null,
       "min_height": null,
       "min_width": null,
       "object_fit": null,
       "object_position": null,
       "order": null,
       "overflow": null,
       "overflow_x": null,
       "overflow_y": null,
       "padding": null,
       "right": null,
       "top": null,
       "visibility": null,
       "width": null
      }
     },
     "42b638104e09473fb188391ef97d8613": {
      "model_module": "@jupyter-widgets/base",
      "model_module_version": "1.2.0",
      "model_name": "LayoutModel",
      "state": {
       "_model_module": "@jupyter-widgets/base",
       "_model_module_version": "1.2.0",
       "_model_name": "LayoutModel",
       "_view_count": null,
       "_view_module": "@jupyter-widgets/base",
       "_view_module_version": "1.2.0",
       "_view_name": "LayoutView",
       "align_content": null,
       "align_items": null,
       "align_self": null,
       "border": null,
       "bottom": null,
       "display": null,
       "flex": null,
       "flex_flow": null,
       "grid_area": null,
       "grid_auto_columns": null,
       "grid_auto_flow": null,
       "grid_auto_rows": null,
       "grid_column": null,
       "grid_gap": null,
       "grid_row": null,
       "grid_template_areas": null,
       "grid_template_columns": null,
       "grid_template_rows": null,
       "height": null,
       "justify_content": null,
       "justify_items": null,
       "left": null,
       "margin": null,
       "max_height": null,
       "max_width": null,
       "min_height": null,
       "min_width": null,
       "object_fit": null,
       "object_position": null,
       "order": null,
       "overflow": null,
       "overflow_x": null,
       "overflow_y": null,
       "padding": null,
       "right": null,
       "top": null,
       "visibility": null,
       "width": null
      }
     },
     "5017cca5b01f4cd38b5bef96ea7f81f9": {
      "model_module": "jupyter-matplotlib",
      "model_module_version": "^0.9.0",
      "model_name": "MPLCanvasModel",
      "state": {
       "_cursor": "pointer",
       "_dom_classes": [],
       "_figure_label": "Figure",
       "_height": 0,
       "_image_mode": "full",
       "_message": "",
       "_model_module": "jupyter-matplotlib",
       "_model_module_version": "^0.9.0",
       "_model_name": "MPLCanvasModel",
       "_rubberband_height": 0,
       "_rubberband_width": 0,
       "_rubberband_x": 0,
       "_rubberband_y": 0,
       "_view_count": null,
       "_view_module": "jupyter-matplotlib",
       "_view_module_version": "^0.9.0",
       "_view_name": "MPLCanvasView",
       "_width": 0,
       "capture_scroll": false,
       "footer_visible": true,
       "header_visible": true,
       "layout": "IPY_MODEL_a2e30d322fbf4340abbb37dbd6704c0f",
       "resizable": true,
       "toolbar": "IPY_MODEL_5e8c6d249778445b9a90f4f91fdc78e6",
       "toolbar_position": "left",
       "toolbar_visible": true
      }
     },
     "5e8c6d249778445b9a90f4f91fdc78e6": {
      "model_module": "jupyter-matplotlib",
      "model_module_version": "^0.9.0",
      "model_name": "ToolbarModel",
      "state": {
       "_current_action": "",
       "_dom_classes": [],
       "_model_module": "jupyter-matplotlib",
       "_model_module_version": "^0.9.0",
       "_model_name": "ToolbarModel",
       "_view_count": null,
       "_view_module": "jupyter-matplotlib",
       "_view_module_version": "^0.9.0",
       "_view_name": "ToolbarView",
       "button_style": "",
       "collapsed": true,
       "layout": "IPY_MODEL_6e20319201f04837b35b01debe44dfca",
       "orientation": "vertical",
       "toolitems": [
        [
         "Home",
         "Reset original view",
         "home",
         "home"
        ],
        [
         "Back",
         "Back to previous view",
         "arrow-left",
         "back"
        ],
        [
         "Forward",
         "Forward to next view",
         "arrow-right",
         "forward"
        ],
        [
         "Pan",
         "Left button pans, Right button zooms\nx/y fixes axis, CTRL fixes aspect",
         "arrows",
         "pan"
        ],
        [
         "Zoom",
         "Zoom to rectangle\nx/y fixes axis",
         "square-o",
         "zoom"
        ],
        [
         "Download",
         "Download plot",
         "floppy-o",
         "save_figure"
        ]
       ]
      }
     },
     "6e20319201f04837b35b01debe44dfca": {
      "model_module": "@jupyter-widgets/base",
      "model_module_version": "1.2.0",
      "model_name": "LayoutModel",
      "state": {
       "_model_module": "@jupyter-widgets/base",
       "_model_module_version": "1.2.0",
       "_model_name": "LayoutModel",
       "_view_count": null,
       "_view_module": "@jupyter-widgets/base",
       "_view_module_version": "1.2.0",
       "_view_name": "LayoutView",
       "align_content": null,
       "align_items": null,
       "align_self": null,
       "border": null,
       "bottom": null,
       "display": null,
       "flex": null,
       "flex_flow": null,
       "grid_area": null,
       "grid_auto_columns": null,
       "grid_auto_flow": null,
       "grid_auto_rows": null,
       "grid_column": null,
       "grid_gap": null,
       "grid_row": null,
       "grid_template_areas": null,
       "grid_template_columns": null,
       "grid_template_rows": null,
       "height": null,
       "justify_content": null,
       "justify_items": null,
       "left": null,
       "margin": null,
       "max_height": null,
       "max_width": null,
       "min_height": null,
       "min_width": null,
       "object_fit": null,
       "object_position": null,
       "order": null,
       "overflow": null,
       "overflow_x": null,
       "overflow_y": null,
       "padding": null,
       "right": null,
       "top": null,
       "visibility": null,
       "width": null
      }
     },
     "76e11d3a86b248b7b1f45168129da34f": {
      "model_module": "jupyter-matplotlib",
      "model_module_version": "^0.9.0",
      "model_name": "ToolbarModel",
      "state": {
       "_current_action": "",
       "_dom_classes": [],
       "_model_module": "jupyter-matplotlib",
       "_model_module_version": "^0.9.0",
       "_model_name": "ToolbarModel",
       "_view_count": null,
       "_view_module": "jupyter-matplotlib",
       "_view_module_version": "^0.9.0",
       "_view_name": "ToolbarView",
       "button_style": "",
       "collapsed": true,
       "layout": "IPY_MODEL_cc61aa91036942dd8e8fa28454d2a8a2",
       "orientation": "vertical",
       "toolitems": [
        [
         "Home",
         "Reset original view",
         "home",
         "home"
        ],
        [
         "Back",
         "Back to previous view",
         "arrow-left",
         "back"
        ],
        [
         "Forward",
         "Forward to next view",
         "arrow-right",
         "forward"
        ],
        [
         "Pan",
         "Left button pans, Right button zooms\nx/y fixes axis, CTRL fixes aspect",
         "arrows",
         "pan"
        ],
        [
         "Zoom",
         "Zoom to rectangle\nx/y fixes axis",
         "square-o",
         "zoom"
        ],
        [
         "Download",
         "Download plot",
         "floppy-o",
         "save_figure"
        ]
       ]
      }
     },
     "89b521a8ec67471c9662568ee0018c21": {
      "model_module": "jupyter-matplotlib",
      "model_module_version": "^0.9.0",
      "model_name": "MPLCanvasModel",
      "state": {
       "_cursor": "pointer",
       "_dom_classes": [],
       "_figure_label": "Figure",
       "_height": 0,
       "_image_mode": "full",
       "_message": "",
       "_model_module": "jupyter-matplotlib",
       "_model_module_version": "^0.9.0",
       "_model_name": "MPLCanvasModel",
       "_rubberband_height": 0,
       "_rubberband_width": 0,
       "_rubberband_x": 0,
       "_rubberband_y": 0,
       "_view_count": null,
       "_view_module": "jupyter-matplotlib",
       "_view_module_version": "^0.9.0",
       "_view_name": "MPLCanvasView",
       "_width": 0,
       "capture_scroll": false,
       "footer_visible": true,
       "header_visible": true,
       "layout": "IPY_MODEL_32de3f7b2250426bb03e4862a699dc8c",
       "resizable": true,
       "toolbar": "IPY_MODEL_b31898a7b2c44e44be5510fe3ca6d2c9",
       "toolbar_position": "left",
       "toolbar_visible": true
      }
     },
     "9a1ec2d909f84f7f93f92ade7ec32a95": {
      "model_module": "jupyter-matplotlib",
      "model_module_version": "^0.9.0",
      "model_name": "MPLCanvasModel",
      "state": {
       "_cursor": "pointer",
       "_dom_classes": [],
       "_figure_label": "Figure",
       "_height": 0,
       "_image_mode": "full",
       "_message": "",
       "_model_module": "jupyter-matplotlib",
       "_model_module_version": "^0.9.0",
       "_model_name": "MPLCanvasModel",
       "_rubberband_height": 0,
       "_rubberband_width": 0,
       "_rubberband_x": 0,
       "_rubberband_y": 0,
       "_view_count": null,
       "_view_module": "jupyter-matplotlib",
       "_view_module_version": "^0.9.0",
       "_view_name": "MPLCanvasView",
       "_width": 0,
       "capture_scroll": false,
       "footer_visible": true,
       "header_visible": true,
       "layout": "IPY_MODEL_42b638104e09473fb188391ef97d8613",
       "resizable": true,
       "toolbar": "IPY_MODEL_b9c5f8e0152f43789dc7ca4ab8969884",
       "toolbar_position": "left",
       "toolbar_visible": true
      }
     },
     "a2e30d322fbf4340abbb37dbd6704c0f": {
      "model_module": "@jupyter-widgets/base",
      "model_module_version": "1.2.0",
      "model_name": "LayoutModel",
      "state": {
       "_model_module": "@jupyter-widgets/base",
       "_model_module_version": "1.2.0",
       "_model_name": "LayoutModel",
       "_view_count": null,
       "_view_module": "@jupyter-widgets/base",
       "_view_module_version": "1.2.0",
       "_view_name": "LayoutView",
       "align_content": null,
       "align_items": null,
       "align_self": null,
       "border": null,
       "bottom": null,
       "display": null,
       "flex": null,
       "flex_flow": null,
       "grid_area": null,
       "grid_auto_columns": null,
       "grid_auto_flow": null,
       "grid_auto_rows": null,
       "grid_column": null,
       "grid_gap": null,
       "grid_row": null,
       "grid_template_areas": null,
       "grid_template_columns": null,
       "grid_template_rows": null,
       "height": null,
       "justify_content": null,
       "justify_items": null,
       "left": null,
       "margin": null,
       "max_height": null,
       "max_width": null,
       "min_height": null,
       "min_width": null,
       "object_fit": null,
       "object_position": null,
       "order": null,
       "overflow": null,
       "overflow_x": null,
       "overflow_y": null,
       "padding": null,
       "right": null,
       "top": null,
       "visibility": null,
       "width": null
      }
     },
     "ab2fc3e960644fba8045dfbd9478fd60": {
      "model_module": "jupyter-matplotlib",
      "model_module_version": "^0.9.0",
      "model_name": "ToolbarModel",
      "state": {
       "_current_action": "",
       "_dom_classes": [],
       "_model_module": "jupyter-matplotlib",
       "_model_module_version": "^0.9.0",
       "_model_name": "ToolbarModel",
       "_view_count": null,
       "_view_module": "jupyter-matplotlib",
       "_view_module_version": "^0.9.0",
       "_view_name": "ToolbarView",
       "button_style": "",
       "collapsed": true,
       "layout": "IPY_MODEL_c25f0ce4185345339f18fdf87d382dfa",
       "orientation": "vertical",
       "toolitems": [
        [
         "Home",
         "Reset original view",
         "home",
         "home"
        ],
        [
         "Back",
         "Back to previous view",
         "arrow-left",
         "back"
        ],
        [
         "Forward",
         "Forward to next view",
         "arrow-right",
         "forward"
        ],
        [
         "Pan",
         "Left button pans, Right button zooms\nx/y fixes axis, CTRL fixes aspect",
         "arrows",
         "pan"
        ],
        [
         "Zoom",
         "Zoom to rectangle\nx/y fixes axis",
         "square-o",
         "zoom"
        ],
        [
         "Download",
         "Download plot",
         "floppy-o",
         "save_figure"
        ]
       ]
      }
     },
     "af9c8442a80e43f695a700707817216e": {
      "model_module": "jupyter-matplotlib",
      "model_module_version": "^0.9.0",
      "model_name": "MPLCanvasModel",
      "state": {
       "_cursor": "pointer",
       "_dom_classes": [],
       "_figure_label": "Figure",
       "_height": 0,
       "_image_mode": "full",
       "_message": "",
       "_model_module": "jupyter-matplotlib",
       "_model_module_version": "^0.9.0",
       "_model_name": "MPLCanvasModel",
       "_rubberband_height": 0,
       "_rubberband_width": 0,
       "_rubberband_x": 0,
       "_rubberband_y": 0,
       "_view_count": null,
       "_view_module": "jupyter-matplotlib",
       "_view_module_version": "^0.9.0",
       "_view_name": "MPLCanvasView",
       "_width": 0,
       "capture_scroll": false,
       "footer_visible": true,
       "header_visible": true,
       "layout": "IPY_MODEL_c3e41859c3d244fda634a5d2fb9c498b",
       "resizable": true,
       "toolbar": "IPY_MODEL_ab2fc3e960644fba8045dfbd9478fd60",
       "toolbar_position": "left",
       "toolbar_visible": true
      }
     },
     "b31898a7b2c44e44be5510fe3ca6d2c9": {
      "model_module": "jupyter-matplotlib",
      "model_module_version": "^0.9.0",
      "model_name": "ToolbarModel",
      "state": {
       "_current_action": "",
       "_dom_classes": [],
       "_model_module": "jupyter-matplotlib",
       "_model_module_version": "^0.9.0",
       "_model_name": "ToolbarModel",
       "_view_count": null,
       "_view_module": "jupyter-matplotlib",
       "_view_module_version": "^0.9.0",
       "_view_name": "ToolbarView",
       "button_style": "",
       "collapsed": true,
       "layout": "IPY_MODEL_2c02b9017abf48cfa85e84a589061139",
       "orientation": "vertical",
       "toolitems": [
        [
         "Home",
         "Reset original view",
         "home",
         "home"
        ],
        [
         "Back",
         "Back to previous view",
         "arrow-left",
         "back"
        ],
        [
         "Forward",
         "Forward to next view",
         "arrow-right",
         "forward"
        ],
        [
         "Pan",
         "Left button pans, Right button zooms\nx/y fixes axis, CTRL fixes aspect",
         "arrows",
         "pan"
        ],
        [
         "Zoom",
         "Zoom to rectangle\nx/y fixes axis",
         "square-o",
         "zoom"
        ],
        [
         "Download",
         "Download plot",
         "floppy-o",
         "save_figure"
        ]
       ]
      }
     },
     "b9c5f8e0152f43789dc7ca4ab8969884": {
      "model_module": "jupyter-matplotlib",
      "model_module_version": "^0.9.0",
      "model_name": "ToolbarModel",
      "state": {
       "_current_action": "",
       "_dom_classes": [],
       "_model_module": "jupyter-matplotlib",
       "_model_module_version": "^0.9.0",
       "_model_name": "ToolbarModel",
       "_view_count": null,
       "_view_module": "jupyter-matplotlib",
       "_view_module_version": "^0.9.0",
       "_view_name": "ToolbarView",
       "button_style": "",
       "collapsed": true,
       "layout": "IPY_MODEL_e872a978afe9407194801eea5e9d1fdb",
       "orientation": "vertical",
       "toolitems": [
        [
         "Home",
         "Reset original view",
         "home",
         "home"
        ],
        [
         "Back",
         "Back to previous view",
         "arrow-left",
         "back"
        ],
        [
         "Forward",
         "Forward to next view",
         "arrow-right",
         "forward"
        ],
        [
         "Pan",
         "Left button pans, Right button zooms\nx/y fixes axis, CTRL fixes aspect",
         "arrows",
         "pan"
        ],
        [
         "Zoom",
         "Zoom to rectangle\nx/y fixes axis",
         "square-o",
         "zoom"
        ],
        [
         "Download",
         "Download plot",
         "floppy-o",
         "save_figure"
        ]
       ]
      }
     },
     "c25f0ce4185345339f18fdf87d382dfa": {
      "model_module": "@jupyter-widgets/base",
      "model_module_version": "1.2.0",
      "model_name": "LayoutModel",
      "state": {
       "_model_module": "@jupyter-widgets/base",
       "_model_module_version": "1.2.0",
       "_model_name": "LayoutModel",
       "_view_count": null,
       "_view_module": "@jupyter-widgets/base",
       "_view_module_version": "1.2.0",
       "_view_name": "LayoutView",
       "align_content": null,
       "align_items": null,
       "align_self": null,
       "border": null,
       "bottom": null,
       "display": null,
       "flex": null,
       "flex_flow": null,
       "grid_area": null,
       "grid_auto_columns": null,
       "grid_auto_flow": null,
       "grid_auto_rows": null,
       "grid_column": null,
       "grid_gap": null,
       "grid_row": null,
       "grid_template_areas": null,
       "grid_template_columns": null,
       "grid_template_rows": null,
       "height": null,
       "justify_content": null,
       "justify_items": null,
       "left": null,
       "margin": null,
       "max_height": null,
       "max_width": null,
       "min_height": null,
       "min_width": null,
       "object_fit": null,
       "object_position": null,
       "order": null,
       "overflow": null,
       "overflow_x": null,
       "overflow_y": null,
       "padding": null,
       "right": null,
       "top": null,
       "visibility": null,
       "width": null
      }
     },
     "c3e41859c3d244fda634a5d2fb9c498b": {
      "model_module": "@jupyter-widgets/base",
      "model_module_version": "1.2.0",
      "model_name": "LayoutModel",
      "state": {
       "_model_module": "@jupyter-widgets/base",
       "_model_module_version": "1.2.0",
       "_model_name": "LayoutModel",
       "_view_count": null,
       "_view_module": "@jupyter-widgets/base",
       "_view_module_version": "1.2.0",
       "_view_name": "LayoutView",
       "align_content": null,
       "align_items": null,
       "align_self": null,
       "border": null,
       "bottom": null,
       "display": null,
       "flex": null,
       "flex_flow": null,
       "grid_area": null,
       "grid_auto_columns": null,
       "grid_auto_flow": null,
       "grid_auto_rows": null,
       "grid_column": null,
       "grid_gap": null,
       "grid_row": null,
       "grid_template_areas": null,
       "grid_template_columns": null,
       "grid_template_rows": null,
       "height": null,
       "justify_content": null,
       "justify_items": null,
       "left": null,
       "margin": null,
       "max_height": null,
       "max_width": null,
       "min_height": null,
       "min_width": null,
       "object_fit": null,
       "object_position": null,
       "order": null,
       "overflow": null,
       "overflow_x": null,
       "overflow_y": null,
       "padding": null,
       "right": null,
       "top": null,
       "visibility": null,
       "width": null
      }
     },
     "cc61aa91036942dd8e8fa28454d2a8a2": {
      "model_module": "@jupyter-widgets/base",
      "model_module_version": "1.2.0",
      "model_name": "LayoutModel",
      "state": {
       "_model_module": "@jupyter-widgets/base",
       "_model_module_version": "1.2.0",
       "_model_name": "LayoutModel",
       "_view_count": null,
       "_view_module": "@jupyter-widgets/base",
       "_view_module_version": "1.2.0",
       "_view_name": "LayoutView",
       "align_content": null,
       "align_items": null,
       "align_self": null,
       "border": null,
       "bottom": null,
       "display": null,
       "flex": null,
       "flex_flow": null,
       "grid_area": null,
       "grid_auto_columns": null,
       "grid_auto_flow": null,
       "grid_auto_rows": null,
       "grid_column": null,
       "grid_gap": null,
       "grid_row": null,
       "grid_template_areas": null,
       "grid_template_columns": null,
       "grid_template_rows": null,
       "height": null,
       "justify_content": null,
       "justify_items": null,
       "left": null,
       "margin": null,
       "max_height": null,
       "max_width": null,
       "min_height": null,
       "min_width": null,
       "object_fit": null,
       "object_position": null,
       "order": null,
       "overflow": null,
       "overflow_x": null,
       "overflow_y": null,
       "padding": null,
       "right": null,
       "top": null,
       "visibility": null,
       "width": null
      }
     },
     "e61fe866358b42dd97bb1e50281091d8": {
      "model_module": "jupyter-matplotlib",
      "model_module_version": "^0.9.0",
      "model_name": "MPLCanvasModel",
      "state": {
       "_cursor": "pointer",
       "_dom_classes": [],
       "_figure_label": "Figure",
       "_height": 0,
       "_image_mode": "full",
       "_message": "",
       "_model_module": "jupyter-matplotlib",
       "_model_module_version": "^0.9.0",
       "_model_name": "MPLCanvasModel",
       "_rubberband_height": 0,
       "_rubberband_width": 0,
       "_rubberband_x": 0,
       "_rubberband_y": 0,
       "_view_count": null,
       "_view_module": "jupyter-matplotlib",
       "_view_module_version": "^0.9.0",
       "_view_name": "MPLCanvasView",
       "_width": 0,
       "capture_scroll": false,
       "footer_visible": true,
       "header_visible": true,
       "layout": "IPY_MODEL_00eac7e76e2b44b79105ff93473c5b7b",
       "resizable": true,
       "toolbar": "IPY_MODEL_76e11d3a86b248b7b1f45168129da34f",
       "toolbar_position": "left",
       "toolbar_visible": true
      }
     },
     "e872a978afe9407194801eea5e9d1fdb": {
      "model_module": "@jupyter-widgets/base",
      "model_module_version": "1.2.0",
      "model_name": "LayoutModel",
      "state": {
       "_model_module": "@jupyter-widgets/base",
       "_model_module_version": "1.2.0",
       "_model_name": "LayoutModel",
       "_view_count": null,
       "_view_module": "@jupyter-widgets/base",
       "_view_module_version": "1.2.0",
       "_view_name": "LayoutView",
       "align_content": null,
       "align_items": null,
       "align_self": null,
       "border": null,
       "bottom": null,
       "display": null,
       "flex": null,
       "flex_flow": null,
       "grid_area": null,
       "grid_auto_columns": null,
       "grid_auto_flow": null,
       "grid_auto_rows": null,
       "grid_column": null,
       "grid_gap": null,
       "grid_row": null,
       "grid_template_areas": null,
       "grid_template_columns": null,
       "grid_template_rows": null,
       "height": null,
       "justify_content": null,
       "justify_items": null,
       "left": null,
       "margin": null,
       "max_height": null,
       "max_width": null,
       "min_height": null,
       "min_width": null,
       "object_fit": null,
       "object_position": null,
       "order": null,
       "overflow": null,
       "overflow_x": null,
       "overflow_y": null,
       "padding": null,
       "right": null,
       "top": null,
       "visibility": null,
       "width": null
      }
     }
    },
    "version_major": 2,
    "version_minor": 0
   }
  }
 },
 "nbformat": 4,
 "nbformat_minor": 5
}
